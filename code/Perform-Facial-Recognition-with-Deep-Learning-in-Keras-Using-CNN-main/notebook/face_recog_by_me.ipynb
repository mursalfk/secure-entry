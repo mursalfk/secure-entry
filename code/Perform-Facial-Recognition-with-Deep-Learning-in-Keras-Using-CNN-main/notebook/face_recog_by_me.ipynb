{
 "cells": [
  {
   "cell_type": "markdown",
   "metadata": {
    "id": "mYhkBW7zmp8O"
   },
   "source": [
    "###Face Recognition using Cnn\n",
    "\n",
    "\n",
    "\n",
    "\n",
    "**Step 1**\n",
    "\n",
    "\n",
    "At the first, you should input the required libraries:"
   ]
  },
  {
   "cell_type": "code",
   "execution_count": 1,
   "metadata": {
    "colab": {
     "base_uri": "https://localhost:8080/"
    },
    "id": "bhDz8EhvQm8Y",
    "outputId": "b49252cd-b735-4fc2-db47-8eb7698e0347"
   },
   "outputs": [
    {
     "name": "stdout",
     "output_type": "stream",
     "text": [
      "Collecting Adam\n",
      "  Downloading adam-0.0.0.dev0-py2.py3-none-any.whl.metadata (1.0 kB)\n",
      "Downloading adam-0.0.0.dev0-py2.py3-none-any.whl (2.6 kB)\n",
      "Installing collected packages: Adam\n",
      "Successfully installed Adam-0.0.0.dev0\n",
      "Note: you may need to restart the kernel to use updated packages.\n"
     ]
    }
   ],
   "source": [
    "pip install Adam"
   ]
  },
  {
   "cell_type": "code",
   "execution_count": 4,
   "metadata": {
    "id": "g7lKdTynTDOa"
   },
   "outputs": [],
   "source": [
    "import tensorflow.keras\n",
    "import keras\n",
    "from tensorflow.keras.models import Sequential\n",
    "from tensorflow.keras.layers import Conv2D, MaxPooling2D, Dense, Flatten, Dropout\n",
    "from tensorflow.keras.optimizers import Adam\n",
    "from tensorflow.keras.callbacks import TensorBoard\n",
    "\n",
    "import numpy as np\n",
    "import pandas as pd\n",
    "import matplotlib.pyplot as plt\n",
    "from sklearn.model_selection import train_test_split\n",
    "\n",
    "from sklearn.metrics import confusion_matrix\n",
    "from sklearn.metrics import classification_report\n",
    "from sklearn.metrics import roc_curve, auc\n",
    "from sklearn.metrics import accuracy_score\n",
    "from tensorflow.keras.utils import to_categorical\n",
    "import itertools"
   ]
  },
  {
   "cell_type": "markdown",
   "metadata": {
    "id": "84cR6ZVNnCJ5"
   },
   "source": [
    "**Step2:**\n",
    "#Load Dataset :\n",
    "\n",
    "```\n",
    "\n",
    "\n",
    "\n",
    "After loading the Dataset you have to normalize every image.\n",
    "\n",
    "Note: an image is a Uint8 matrix of pixels and for calculation, you need to convert the format of the image to float or double"
   ]
  },
  {
   "cell_type": "code",
   "execution_count": 5,
   "metadata": {
    "colab": {
     "base_uri": "https://localhost:8080/"
    },
    "id": "qrEWWu8mVLC3",
    "outputId": "47529cdd-de95-42ca-b0f3-0a747f4757a6"
   },
   "outputs": [
    {
     "name": "stdout",
     "output_type": "stream",
     "text": [
      "x_train : [[0.1882353  0.19215687 0.1764706  ... 0.18431373 0.18039216 0.18039216]\n",
      " [0.23529412 0.23529412 0.24313726 ... 0.1254902  0.13333334 0.13333334]\n",
      " [0.15294118 0.17254902 0.20784314 ... 0.11372549 0.10196079 0.11372549]\n",
      " ...\n",
      " [0.44705883 0.45882353 0.44705883 ... 0.38431373 0.3764706  0.38431373]\n",
      " [0.4117647  0.4117647  0.41960785 ... 0.21176471 0.18431373 0.16078432]\n",
      " [0.45490196 0.44705883 0.45882353 ... 0.37254903 0.39215687 0.39607844]]\n",
      "Y-train shape: [ 0  0  0  0  0  0  0  0  0  0  0  0  1  1  1  1  1  1  1  1  1  1  1  1\n",
      "  2  2  2  2  2  2  2  2  2  2  2  2  3  3  3  3  3  3  3  3  3  3  3  3\n",
      "  4  4  4  4  4  4  4  4  4  4  4  4  5  5  5  5  5  5  5  5  5  5  5  5\n",
      "  6  6  6  6  6  6  6  6  6  6  6  6  7  7  7  7  7  7  7  7  7  7  7  7\n",
      "  8  8  8  8  8  8  8  8  8  8  8  8  9  9  9  9  9  9  9  9  9  9  9  9\n",
      " 10 10 10 10 10 10 10 10 10 10 10 10 11 11 11 11 11 11 11 11 11 11 11 11\n",
      " 12 12 12 12 12 12 12 12 12 12 12 12 13 13 13 13 13 13 13 13 13 13 13 13\n",
      " 14 14 14 14 14 14 14 14 14 14 14 14 15 15 15 15 15 15 15 15 15 15 15 15\n",
      " 16 16 16 16 16 16 16 16 16 16 16 16 17 17 17 17 17 17 17 17 17 17 17 17\n",
      " 18 18 18 18 18 18 18 18 18 18 18 18 19 19 19 19 19 19 19 19 19 19 19 19]\n",
      "x_test shape: (160, 10304)\n"
     ]
    }
   ],
   "source": [
    "#load dataset\n",
    "# data = np.load('/content/drive/MyDrive/simplilearn/advanced deep learning and computer vision/project ada dl/ORL_faces.npz') \n",
    "data = np.load('../dataset/ORL_faces.npz') \n",
    "\n",
    "# load the \"Train Images\"\n",
    "x_train = data['trainX']\n",
    "#normalize every image\n",
    "x_train = np.array(x_train,dtype='float32')/255\n",
    "\n",
    "x_test = data['testX']\n",
    "x_test = np.array(x_test,dtype='float32')/255\n",
    "\n",
    "# load the Label of Images\n",
    "y_train= data['trainY']\n",
    "y_test= data['testY']\n",
    "\n",
    "# show the train and test Data format\n",
    "print('x_train : {}'.format(x_train[:]))\n",
    "print('Y-train shape: {}'.format(y_train))\n",
    "print('x_test shape: {}'.format(x_test.shape))"
   ]
  },
  {
   "cell_type": "markdown",
   "metadata": {
    "id": "DIuawrccnlnS"
   },
   "source": [
    "**Step 3:**\n",
    "##Split DataSet : Validation data and Train\n",
    "\n",
    "Validation DataSet: this data set is used to minimize overfitting.If the accuracy over the training data set increases, but the accuracy over then validation data set stays the same or decreases, then you're overfitting your neural network and you should stop training.\n",
    "\n",
    "Note: we usually use 30 percent of every dataset as the validation data but Here we only used 5 percent because the number of images in this dataset is very low."
   ]
  },
  {
   "cell_type": "code",
   "execution_count": 6,
   "metadata": {
    "id": "G9LEo1g1WIjt"
   },
   "outputs": [],
   "source": [
    "x_train, x_valid, y_train, y_valid= train_test_split(\n",
    "    x_train, y_train, test_size=.05, random_state=1234,)"
   ]
  },
  {
   "cell_type": "markdown",
   "metadata": {
    "id": "_Hlpc89_n7fC"
   },
   "source": [
    "**Step 4**\n",
    "\n",
    "for using the CNN, we need to change The size of images ( The size of images must be the same)"
   ]
  },
  {
   "cell_type": "code",
   "execution_count": 7,
   "metadata": {
    "colab": {
     "base_uri": "https://localhost:8080/"
    },
    "id": "3uw6P8jrVZuA",
    "outputId": "e1a4cf54-9367-4213-bc89-de4fbde7fe5a"
   },
   "outputs": [
    {
     "name": "stdout",
     "output_type": "stream",
     "text": [
      "x_train shape: 228\n",
      "x_test shape: (160,)\n"
     ]
    }
   ],
   "source": [
    "im_rows=112\n",
    "im_cols=92\n",
    "batch_size=512\n",
    "im_shape=(im_rows, im_cols, 1)\n",
    "\n",
    "#change the size of images\n",
    "x_train = x_train.reshape(x_train.shape[0], *im_shape)\n",
    "x_test = x_test.reshape(x_test.shape[0], *im_shape)\n",
    "x_valid = x_valid.reshape(x_valid.shape[0], *im_shape)\n",
    "\n",
    "print('x_train shape: {}'.format(y_train.shape[0]))\n",
    "print('x_test shape: {}'.format(y_test.shape))\n",
    "\n"
   ]
  },
  {
   "cell_type": "markdown",
   "metadata": {
    "id": "eqcw14YfoKXN"
   },
   "source": [
    "**Step 5:**\n",
    "\n",
    "\n",
    "Build CNN model: CNN have 3 main layer:\n",
    "\n",
    "1-Convolotional layer\n",
    "\n",
    "2- pooling layer\n",
    "\n",
    "3- fully connected layer\n",
    "\n",
    "We could build a new architecture of CNN by changing the number and position of layers."
   ]
  },
  {
   "cell_type": "code",
   "execution_count": 10,
   "metadata": {
    "colab": {
     "base_uri": "https://localhost:8080/"
    },
    "id": "CpGKCcQfVy2t",
    "outputId": "c7004dc7-b96e-4a10-8aa6-077e6d48dc64"
   },
   "outputs": [],
   "source": [
    "#filters= the depth of output image or kernels\n",
    "\n",
    "cnn_model= Sequential([\n",
    "    Conv2D(filters=36, kernel_size=7, activation='relu', input_shape= im_shape),\n",
    "    MaxPooling2D(pool_size=2),\n",
    "    Conv2D(filters=54, kernel_size=5, activation='relu', input_shape= im_shape),\n",
    "    MaxPooling2D(pool_size=2),\n",
    "    Flatten(),\n",
    "    Dense(2024, activation='relu'),\n",
    "     Dropout(0.5),\n",
    "    Dense(1024, activation='relu'),\n",
    "    Dropout(0.5),\n",
    "    Dense(512, activation='relu'),\n",
    "    Dropout(0.5),\n",
    "    #20 is the number of outputs\n",
    "    Dense(20, activation='softmax')  \n",
    "])\n",
    "\n",
    "cnn_model.compile(\n",
    "    loss='sparse_categorical_crossentropy',#'categorical_crossentropy',\n",
    "    optimizer=Adam(learning_rate=0.0001),\n",
    "    metrics=['accuracy']\n",
    ")"
   ]
  },
  {
   "cell_type": "markdown",
   "metadata": {
    "id": "eWnSD0N1oXpz"
   },
   "source": [
    "##Show the model's parameters."
   ]
  },
  {
   "cell_type": "code",
   "execution_count": 11,
   "metadata": {
    "colab": {
     "base_uri": "https://localhost:8080/"
    },
    "id": "Ykegw35tWS6F",
    "outputId": "dc28e48b-9d24-40cf-bdbc-08ca66aa7a02"
   },
   "outputs": [
    {
     "data": {
      "text/html": [
       "<pre style=\"white-space:pre;overflow-x:auto;line-height:normal;font-family:Menlo,'DejaVu Sans Mono',consolas,'Courier New',monospace\"><span style=\"font-weight: bold\">Model: \"sequential_1\"</span>\n",
       "</pre>\n"
      ],
      "text/plain": [
       "\u001b[1mModel: \"sequential_1\"\u001b[0m\n"
      ]
     },
     "metadata": {},
     "output_type": "display_data"
    },
    {
     "data": {
      "text/html": [
       "<pre style=\"white-space:pre;overflow-x:auto;line-height:normal;font-family:Menlo,'DejaVu Sans Mono',consolas,'Courier New',monospace\">┏━━━━━━━━━━━━━━━━━━━━━━━━━━━━━━━━━━━━━━┳━━━━━━━━━━━━━━━━━━━━━━━━━━━━━┳━━━━━━━━━━━━━━━━━┓\n",
       "┃<span style=\"font-weight: bold\"> Layer (type)                         </span>┃<span style=\"font-weight: bold\"> Output Shape                </span>┃<span style=\"font-weight: bold\">         Param # </span>┃\n",
       "┡━━━━━━━━━━━━━━━━━━━━━━━━━━━━━━━━━━━━━━╇━━━━━━━━━━━━━━━━━━━━━━━━━━━━━╇━━━━━━━━━━━━━━━━━┩\n",
       "│ conv2d_2 (<span style=\"color: #0087ff; text-decoration-color: #0087ff\">Conv2D</span>)                    │ (<span style=\"color: #00d7ff; text-decoration-color: #00d7ff\">None</span>, <span style=\"color: #00af00; text-decoration-color: #00af00\">106</span>, <span style=\"color: #00af00; text-decoration-color: #00af00\">86</span>, <span style=\"color: #00af00; text-decoration-color: #00af00\">36</span>)         │           <span style=\"color: #00af00; text-decoration-color: #00af00\">1,800</span> │\n",
       "├──────────────────────────────────────┼─────────────────────────────┼─────────────────┤\n",
       "│ max_pooling2d_2 (<span style=\"color: #0087ff; text-decoration-color: #0087ff\">MaxPooling2D</span>)       │ (<span style=\"color: #00d7ff; text-decoration-color: #00d7ff\">None</span>, <span style=\"color: #00af00; text-decoration-color: #00af00\">53</span>, <span style=\"color: #00af00; text-decoration-color: #00af00\">43</span>, <span style=\"color: #00af00; text-decoration-color: #00af00\">36</span>)          │               <span style=\"color: #00af00; text-decoration-color: #00af00\">0</span> │\n",
       "├──────────────────────────────────────┼─────────────────────────────┼─────────────────┤\n",
       "│ conv2d_3 (<span style=\"color: #0087ff; text-decoration-color: #0087ff\">Conv2D</span>)                    │ (<span style=\"color: #00d7ff; text-decoration-color: #00d7ff\">None</span>, <span style=\"color: #00af00; text-decoration-color: #00af00\">49</span>, <span style=\"color: #00af00; text-decoration-color: #00af00\">39</span>, <span style=\"color: #00af00; text-decoration-color: #00af00\">54</span>)          │          <span style=\"color: #00af00; text-decoration-color: #00af00\">48,654</span> │\n",
       "├──────────────────────────────────────┼─────────────────────────────┼─────────────────┤\n",
       "│ max_pooling2d_3 (<span style=\"color: #0087ff; text-decoration-color: #0087ff\">MaxPooling2D</span>)       │ (<span style=\"color: #00d7ff; text-decoration-color: #00d7ff\">None</span>, <span style=\"color: #00af00; text-decoration-color: #00af00\">24</span>, <span style=\"color: #00af00; text-decoration-color: #00af00\">19</span>, <span style=\"color: #00af00; text-decoration-color: #00af00\">54</span>)          │               <span style=\"color: #00af00; text-decoration-color: #00af00\">0</span> │\n",
       "├──────────────────────────────────────┼─────────────────────────────┼─────────────────┤\n",
       "│ flatten_1 (<span style=\"color: #0087ff; text-decoration-color: #0087ff\">Flatten</span>)                  │ (<span style=\"color: #00d7ff; text-decoration-color: #00d7ff\">None</span>, <span style=\"color: #00af00; text-decoration-color: #00af00\">24624</span>)               │               <span style=\"color: #00af00; text-decoration-color: #00af00\">0</span> │\n",
       "├──────────────────────────────────────┼─────────────────────────────┼─────────────────┤\n",
       "│ dense_4 (<span style=\"color: #0087ff; text-decoration-color: #0087ff\">Dense</span>)                      │ (<span style=\"color: #00d7ff; text-decoration-color: #00d7ff\">None</span>, <span style=\"color: #00af00; text-decoration-color: #00af00\">2024</span>)                │      <span style=\"color: #00af00; text-decoration-color: #00af00\">49,841,000</span> │\n",
       "├──────────────────────────────────────┼─────────────────────────────┼─────────────────┤\n",
       "│ dropout_3 (<span style=\"color: #0087ff; text-decoration-color: #0087ff\">Dropout</span>)                  │ (<span style=\"color: #00d7ff; text-decoration-color: #00d7ff\">None</span>, <span style=\"color: #00af00; text-decoration-color: #00af00\">2024</span>)                │               <span style=\"color: #00af00; text-decoration-color: #00af00\">0</span> │\n",
       "├──────────────────────────────────────┼─────────────────────────────┼─────────────────┤\n",
       "│ dense_5 (<span style=\"color: #0087ff; text-decoration-color: #0087ff\">Dense</span>)                      │ (<span style=\"color: #00d7ff; text-decoration-color: #00d7ff\">None</span>, <span style=\"color: #00af00; text-decoration-color: #00af00\">1024</span>)                │       <span style=\"color: #00af00; text-decoration-color: #00af00\">2,073,600</span> │\n",
       "├──────────────────────────────────────┼─────────────────────────────┼─────────────────┤\n",
       "│ dropout_4 (<span style=\"color: #0087ff; text-decoration-color: #0087ff\">Dropout</span>)                  │ (<span style=\"color: #00d7ff; text-decoration-color: #00d7ff\">None</span>, <span style=\"color: #00af00; text-decoration-color: #00af00\">1024</span>)                │               <span style=\"color: #00af00; text-decoration-color: #00af00\">0</span> │\n",
       "├──────────────────────────────────────┼─────────────────────────────┼─────────────────┤\n",
       "│ dense_6 (<span style=\"color: #0087ff; text-decoration-color: #0087ff\">Dense</span>)                      │ (<span style=\"color: #00d7ff; text-decoration-color: #00d7ff\">None</span>, <span style=\"color: #00af00; text-decoration-color: #00af00\">512</span>)                 │         <span style=\"color: #00af00; text-decoration-color: #00af00\">524,800</span> │\n",
       "├──────────────────────────────────────┼─────────────────────────────┼─────────────────┤\n",
       "│ dropout_5 (<span style=\"color: #0087ff; text-decoration-color: #0087ff\">Dropout</span>)                  │ (<span style=\"color: #00d7ff; text-decoration-color: #00d7ff\">None</span>, <span style=\"color: #00af00; text-decoration-color: #00af00\">512</span>)                 │               <span style=\"color: #00af00; text-decoration-color: #00af00\">0</span> │\n",
       "├──────────────────────────────────────┼─────────────────────────────┼─────────────────┤\n",
       "│ dense_7 (<span style=\"color: #0087ff; text-decoration-color: #0087ff\">Dense</span>)                      │ (<span style=\"color: #00d7ff; text-decoration-color: #00d7ff\">None</span>, <span style=\"color: #00af00; text-decoration-color: #00af00\">20</span>)                  │          <span style=\"color: #00af00; text-decoration-color: #00af00\">10,260</span> │\n",
       "└──────────────────────────────────────┴─────────────────────────────┴─────────────────┘\n",
       "</pre>\n"
      ],
      "text/plain": [
       "┏━━━━━━━━━━━━━━━━━━━━━━━━━━━━━━━━━━━━━━┳━━━━━━━━━━━━━━━━━━━━━━━━━━━━━┳━━━━━━━━━━━━━━━━━┓\n",
       "┃\u001b[1m \u001b[0m\u001b[1mLayer (type)                        \u001b[0m\u001b[1m \u001b[0m┃\u001b[1m \u001b[0m\u001b[1mOutput Shape               \u001b[0m\u001b[1m \u001b[0m┃\u001b[1m \u001b[0m\u001b[1m        Param #\u001b[0m\u001b[1m \u001b[0m┃\n",
       "┡━━━━━━━━━━━━━━━━━━━━━━━━━━━━━━━━━━━━━━╇━━━━━━━━━━━━━━━━━━━━━━━━━━━━━╇━━━━━━━━━━━━━━━━━┩\n",
       "│ conv2d_2 (\u001b[38;5;33mConv2D\u001b[0m)                    │ (\u001b[38;5;45mNone\u001b[0m, \u001b[38;5;34m106\u001b[0m, \u001b[38;5;34m86\u001b[0m, \u001b[38;5;34m36\u001b[0m)         │           \u001b[38;5;34m1,800\u001b[0m │\n",
       "├──────────────────────────────────────┼─────────────────────────────┼─────────────────┤\n",
       "│ max_pooling2d_2 (\u001b[38;5;33mMaxPooling2D\u001b[0m)       │ (\u001b[38;5;45mNone\u001b[0m, \u001b[38;5;34m53\u001b[0m, \u001b[38;5;34m43\u001b[0m, \u001b[38;5;34m36\u001b[0m)          │               \u001b[38;5;34m0\u001b[0m │\n",
       "├──────────────────────────────────────┼─────────────────────────────┼─────────────────┤\n",
       "│ conv2d_3 (\u001b[38;5;33mConv2D\u001b[0m)                    │ (\u001b[38;5;45mNone\u001b[0m, \u001b[38;5;34m49\u001b[0m, \u001b[38;5;34m39\u001b[0m, \u001b[38;5;34m54\u001b[0m)          │          \u001b[38;5;34m48,654\u001b[0m │\n",
       "├──────────────────────────────────────┼─────────────────────────────┼─────────────────┤\n",
       "│ max_pooling2d_3 (\u001b[38;5;33mMaxPooling2D\u001b[0m)       │ (\u001b[38;5;45mNone\u001b[0m, \u001b[38;5;34m24\u001b[0m, \u001b[38;5;34m19\u001b[0m, \u001b[38;5;34m54\u001b[0m)          │               \u001b[38;5;34m0\u001b[0m │\n",
       "├──────────────────────────────────────┼─────────────────────────────┼─────────────────┤\n",
       "│ flatten_1 (\u001b[38;5;33mFlatten\u001b[0m)                  │ (\u001b[38;5;45mNone\u001b[0m, \u001b[38;5;34m24624\u001b[0m)               │               \u001b[38;5;34m0\u001b[0m │\n",
       "├──────────────────────────────────────┼─────────────────────────────┼─────────────────┤\n",
       "│ dense_4 (\u001b[38;5;33mDense\u001b[0m)                      │ (\u001b[38;5;45mNone\u001b[0m, \u001b[38;5;34m2024\u001b[0m)                │      \u001b[38;5;34m49,841,000\u001b[0m │\n",
       "├──────────────────────────────────────┼─────────────────────────────┼─────────────────┤\n",
       "│ dropout_3 (\u001b[38;5;33mDropout\u001b[0m)                  │ (\u001b[38;5;45mNone\u001b[0m, \u001b[38;5;34m2024\u001b[0m)                │               \u001b[38;5;34m0\u001b[0m │\n",
       "├──────────────────────────────────────┼─────────────────────────────┼─────────────────┤\n",
       "│ dense_5 (\u001b[38;5;33mDense\u001b[0m)                      │ (\u001b[38;5;45mNone\u001b[0m, \u001b[38;5;34m1024\u001b[0m)                │       \u001b[38;5;34m2,073,600\u001b[0m │\n",
       "├──────────────────────────────────────┼─────────────────────────────┼─────────────────┤\n",
       "│ dropout_4 (\u001b[38;5;33mDropout\u001b[0m)                  │ (\u001b[38;5;45mNone\u001b[0m, \u001b[38;5;34m1024\u001b[0m)                │               \u001b[38;5;34m0\u001b[0m │\n",
       "├──────────────────────────────────────┼─────────────────────────────┼─────────────────┤\n",
       "│ dense_6 (\u001b[38;5;33mDense\u001b[0m)                      │ (\u001b[38;5;45mNone\u001b[0m, \u001b[38;5;34m512\u001b[0m)                 │         \u001b[38;5;34m524,800\u001b[0m │\n",
       "├──────────────────────────────────────┼─────────────────────────────┼─────────────────┤\n",
       "│ dropout_5 (\u001b[38;5;33mDropout\u001b[0m)                  │ (\u001b[38;5;45mNone\u001b[0m, \u001b[38;5;34m512\u001b[0m)                 │               \u001b[38;5;34m0\u001b[0m │\n",
       "├──────────────────────────────────────┼─────────────────────────────┼─────────────────┤\n",
       "│ dense_7 (\u001b[38;5;33mDense\u001b[0m)                      │ (\u001b[38;5;45mNone\u001b[0m, \u001b[38;5;34m20\u001b[0m)                  │          \u001b[38;5;34m10,260\u001b[0m │\n",
       "└──────────────────────────────────────┴─────────────────────────────┴─────────────────┘\n"
      ]
     },
     "metadata": {},
     "output_type": "display_data"
    },
    {
     "data": {
      "text/html": [
       "<pre style=\"white-space:pre;overflow-x:auto;line-height:normal;font-family:Menlo,'DejaVu Sans Mono',consolas,'Courier New',monospace\"><span style=\"font-weight: bold\"> Total params: </span><span style=\"color: #00af00; text-decoration-color: #00af00\">52,500,114</span> (200.27 MB)\n",
       "</pre>\n"
      ],
      "text/plain": [
       "\u001b[1m Total params: \u001b[0m\u001b[38;5;34m52,500,114\u001b[0m (200.27 MB)\n"
      ]
     },
     "metadata": {},
     "output_type": "display_data"
    },
    {
     "data": {
      "text/html": [
       "<pre style=\"white-space:pre;overflow-x:auto;line-height:normal;font-family:Menlo,'DejaVu Sans Mono',consolas,'Courier New',monospace\"><span style=\"font-weight: bold\"> Trainable params: </span><span style=\"color: #00af00; text-decoration-color: #00af00\">52,500,114</span> (200.27 MB)\n",
       "</pre>\n"
      ],
      "text/plain": [
       "\u001b[1m Trainable params: \u001b[0m\u001b[38;5;34m52,500,114\u001b[0m (200.27 MB)\n"
      ]
     },
     "metadata": {},
     "output_type": "display_data"
    },
    {
     "data": {
      "text/html": [
       "<pre style=\"white-space:pre;overflow-x:auto;line-height:normal;font-family:Menlo,'DejaVu Sans Mono',consolas,'Courier New',monospace\"><span style=\"font-weight: bold\"> Non-trainable params: </span><span style=\"color: #00af00; text-decoration-color: #00af00\">0</span> (0.00 B)\n",
       "</pre>\n"
      ],
      "text/plain": [
       "\u001b[1m Non-trainable params: \u001b[0m\u001b[38;5;34m0\u001b[0m (0.00 B)\n"
      ]
     },
     "metadata": {},
     "output_type": "display_data"
    }
   ],
   "source": [
    "cnn_model.summary()"
   ]
  },
  {
   "cell_type": "markdown",
   "metadata": {
    "id": "8bkvYygKoewB"
   },
   "source": [
    "**Step 6**\n",
    "\n",
    "Train the Model\n",
    "\n",
    "Note: You can change the number of epochs"
   ]
  },
  {
   "cell_type": "code",
   "execution_count": 12,
   "metadata": {
    "colab": {
     "base_uri": "https://localhost:8080/"
    },
    "id": "XH-O66_mWijF",
    "outputId": "7bfff30c-78df-4468-b3a1-8acf46e5487d"
   },
   "outputs": [
    {
     "name": "stdout",
     "output_type": "stream",
     "text": [
      "Epoch 1/250\n",
      "1/1 - 2s - 2s/step - accuracy: 0.0658 - loss: 2.9955 - val_accuracy: 0.0833 - val_loss: 3.0049\n",
      "Epoch 2/250\n",
      "1/1 - 1s - 883ms/step - accuracy: 0.0746 - loss: 3.0091 - val_accuracy: 0.0833 - val_loss: 3.0008\n",
      "Epoch 3/250\n",
      "1/1 - 1s - 866ms/step - accuracy: 0.0570 - loss: 3.0189 - val_accuracy: 0.0833 - val_loss: 2.9998\n",
      "Epoch 4/250\n",
      "1/1 - 1s - 912ms/step - accuracy: 0.0570 - loss: 3.0172 - val_accuracy: 0.0833 - val_loss: 2.9993\n",
      "Epoch 5/250\n",
      "1/1 - 1s - 867ms/step - accuracy: 0.0746 - loss: 3.0159 - val_accuracy: 0.0833 - val_loss: 2.9977\n",
      "Epoch 6/250\n",
      "1/1 - 1s - 866ms/step - accuracy: 0.0702 - loss: 3.0288 - val_accuracy: 0.0000e+00 - val_loss: 3.0026\n",
      "Epoch 7/250\n",
      "1/1 - 1s - 841ms/step - accuracy: 0.0570 - loss: 3.0237 - val_accuracy: 0.0000e+00 - val_loss: 3.0037\n",
      "Epoch 8/250\n",
      "1/1 - 1s - 833ms/step - accuracy: 0.0658 - loss: 2.9790 - val_accuracy: 0.0000e+00 - val_loss: 3.0034\n",
      "Epoch 9/250\n",
      "1/1 - 1s - 858ms/step - accuracy: 0.0746 - loss: 2.9808 - val_accuracy: 0.0000e+00 - val_loss: 3.0000\n",
      "Epoch 10/250\n",
      "1/1 - 1s - 850ms/step - accuracy: 0.0702 - loss: 2.9908 - val_accuracy: 0.0000e+00 - val_loss: 2.9948\n",
      "Epoch 11/250\n",
      "1/1 - 1s - 850ms/step - accuracy: 0.0789 - loss: 2.9680 - val_accuracy: 0.0000e+00 - val_loss: 2.9920\n",
      "Epoch 12/250\n",
      "1/1 - 1s - 834ms/step - accuracy: 0.0789 - loss: 2.9688 - val_accuracy: 0.0000e+00 - val_loss: 2.9875\n",
      "Epoch 13/250\n",
      "1/1 - 1s - 822ms/step - accuracy: 0.1009 - loss: 2.9695 - val_accuracy: 0.0000e+00 - val_loss: 2.9835\n",
      "Epoch 14/250\n",
      "1/1 - 1s - 841ms/step - accuracy: 0.0833 - loss: 2.9582 - val_accuracy: 0.0000e+00 - val_loss: 2.9787\n",
      "Epoch 15/250\n",
      "1/1 - 1s - 825ms/step - accuracy: 0.0965 - loss: 2.9698 - val_accuracy: 0.0000e+00 - val_loss: 2.9747\n",
      "Epoch 16/250\n",
      "1/1 - 1s - 833ms/step - accuracy: 0.1140 - loss: 2.9414 - val_accuracy: 0.0000e+00 - val_loss: 2.9708\n",
      "Epoch 17/250\n",
      "1/1 - 1s - 825ms/step - accuracy: 0.1096 - loss: 2.9645 - val_accuracy: 0.0000e+00 - val_loss: 2.9679\n",
      "Epoch 18/250\n",
      "1/1 - 1s - 897ms/step - accuracy: 0.1009 - loss: 2.9446 - val_accuracy: 0.0000e+00 - val_loss: 2.9645\n",
      "Epoch 19/250\n",
      "1/1 - 1s - 843ms/step - accuracy: 0.0833 - loss: 2.9450 - val_accuracy: 0.0000e+00 - val_loss: 2.9602\n",
      "Epoch 20/250\n",
      "1/1 - 1s - 842ms/step - accuracy: 0.1140 - loss: 2.9468 - val_accuracy: 0.0000e+00 - val_loss: 2.9547\n",
      "Epoch 21/250\n",
      "1/1 - 1s - 833ms/step - accuracy: 0.1491 - loss: 2.9203 - val_accuracy: 0.0000e+00 - val_loss: 2.9496\n",
      "Epoch 22/250\n",
      "1/1 - 1s - 817ms/step - accuracy: 0.1096 - loss: 2.9270 - val_accuracy: 0.0000e+00 - val_loss: 2.9426\n",
      "Epoch 23/250\n",
      "1/1 - 1s - 825ms/step - accuracy: 0.1316 - loss: 2.9122 - val_accuracy: 0.0000e+00 - val_loss: 2.9361\n",
      "Epoch 24/250\n",
      "1/1 - 1s - 808ms/step - accuracy: 0.1798 - loss: 2.8758 - val_accuracy: 0.0000e+00 - val_loss: 2.9287\n",
      "Epoch 25/250\n",
      "1/1 - 1s - 866ms/step - accuracy: 0.1447 - loss: 2.9000 - val_accuracy: 0.0000e+00 - val_loss: 2.9207\n",
      "Epoch 26/250\n",
      "1/1 - 1s - 833ms/step - accuracy: 0.1491 - loss: 2.8872 - val_accuracy: 0.0000e+00 - val_loss: 2.9116\n",
      "Epoch 27/250\n",
      "1/1 - 1s - 850ms/step - accuracy: 0.1886 - loss: 2.8575 - val_accuracy: 0.0000e+00 - val_loss: 2.9029\n",
      "Epoch 28/250\n",
      "1/1 - 1s - 827ms/step - accuracy: 0.1491 - loss: 2.8578 - val_accuracy: 0.0000e+00 - val_loss: 2.8913\n",
      "Epoch 29/250\n",
      "1/1 - 1s - 857ms/step - accuracy: 0.1447 - loss: 2.8706 - val_accuracy: 0.1667 - val_loss: 2.8783\n",
      "Epoch 30/250\n",
      "1/1 - 1s - 825ms/step - accuracy: 0.2061 - loss: 2.8309 - val_accuracy: 0.1667 - val_loss: 2.8621\n",
      "Epoch 31/250\n",
      "1/1 - 1s - 858ms/step - accuracy: 0.2412 - loss: 2.7791 - val_accuracy: 0.1667 - val_loss: 2.8461\n",
      "Epoch 32/250\n",
      "1/1 - 1s - 850ms/step - accuracy: 0.2632 - loss: 2.7716 - val_accuracy: 0.1667 - val_loss: 2.8293\n",
      "Epoch 33/250\n",
      "1/1 - 1s - 842ms/step - accuracy: 0.1886 - loss: 2.7540 - val_accuracy: 0.1667 - val_loss: 2.8090\n",
      "Epoch 34/250\n",
      "1/1 - 1s - 867ms/step - accuracy: 0.2105 - loss: 2.7341 - val_accuracy: 0.0833 - val_loss: 2.7864\n",
      "Epoch 35/250\n",
      "1/1 - 1s - 883ms/step - accuracy: 0.2675 - loss: 2.6771 - val_accuracy: 0.0833 - val_loss: 2.7569\n",
      "Epoch 36/250\n",
      "1/1 - 1s - 867ms/step - accuracy: 0.2237 - loss: 2.6781 - val_accuracy: 0.0833 - val_loss: 2.7233\n",
      "Epoch 37/250\n",
      "1/1 - 1s - 858ms/step - accuracy: 0.2368 - loss: 2.6379 - val_accuracy: 0.0833 - val_loss: 2.6866\n",
      "Epoch 38/250\n",
      "1/1 - 1s - 850ms/step - accuracy: 0.2544 - loss: 2.6036 - val_accuracy: 0.0833 - val_loss: 2.6449\n",
      "Epoch 39/250\n",
      "1/1 - 1s - 991ms/step - accuracy: 0.2675 - loss: 2.5622 - val_accuracy: 0.0833 - val_loss: 2.5960\n",
      "Epoch 40/250\n",
      "1/1 - 1s - 992ms/step - accuracy: 0.3070 - loss: 2.5432 - val_accuracy: 0.0833 - val_loss: 2.5418\n",
      "Epoch 41/250\n",
      "1/1 - 1s - 1s/step - accuracy: 0.3509 - loss: 2.4621 - val_accuracy: 0.1667 - val_loss: 2.4896\n",
      "Epoch 42/250\n",
      "1/1 - 1s - 1s/step - accuracy: 0.3377 - loss: 2.4371 - val_accuracy: 0.1667 - val_loss: 2.4377\n",
      "Epoch 43/250\n",
      "1/1 - 1s - 1s/step - accuracy: 0.3070 - loss: 2.4688 - val_accuracy: 0.2500 - val_loss: 2.3855\n",
      "Epoch 44/250\n",
      "1/1 - 1s - 991ms/step - accuracy: 0.2895 - loss: 2.4600 - val_accuracy: 0.2500 - val_loss: 2.3315\n",
      "Epoch 45/250\n",
      "1/1 - 1s - 983ms/step - accuracy: 0.3246 - loss: 2.3271 - val_accuracy: 0.3333 - val_loss: 2.2776\n",
      "Epoch 46/250\n",
      "1/1 - 1s - 992ms/step - accuracy: 0.3421 - loss: 2.3612 - val_accuracy: 0.3333 - val_loss: 2.2226\n",
      "Epoch 47/250\n",
      "1/1 - 1s - 967ms/step - accuracy: 0.4079 - loss: 2.1654 - val_accuracy: 0.3333 - val_loss: 2.1720\n",
      "Epoch 48/250\n",
      "1/1 - 1s - 983ms/step - accuracy: 0.3991 - loss: 2.1580 - val_accuracy: 0.4167 - val_loss: 2.1277\n",
      "Epoch 49/250\n",
      "1/1 - 1s - 1s/step - accuracy: 0.3640 - loss: 2.2124 - val_accuracy: 0.3333 - val_loss: 2.0684\n",
      "Epoch 50/250\n",
      "1/1 - 1s - 975ms/step - accuracy: 0.3991 - loss: 2.1025 - val_accuracy: 0.5000 - val_loss: 2.0089\n",
      "Epoch 51/250\n",
      "1/1 - 1s - 1000ms/step - accuracy: 0.3728 - loss: 2.1279 - val_accuracy: 0.5833 - val_loss: 1.9506\n",
      "Epoch 52/250\n",
      "1/1 - 1s - 975ms/step - accuracy: 0.4737 - loss: 1.9812 - val_accuracy: 0.5833 - val_loss: 1.8932\n",
      "Epoch 53/250\n",
      "1/1 - 1s - 969ms/step - accuracy: 0.4079 - loss: 2.0038 - val_accuracy: 0.5833 - val_loss: 1.8320\n",
      "Epoch 54/250\n",
      "1/1 - 1s - 1s/step - accuracy: 0.4298 - loss: 1.9204 - val_accuracy: 0.5833 - val_loss: 1.7772\n",
      "Epoch 55/250\n",
      "1/1 - 1s - 1s/step - accuracy: 0.4430 - loss: 1.8536 - val_accuracy: 0.6667 - val_loss: 1.7238\n",
      "Epoch 56/250\n",
      "1/1 - 1s - 975ms/step - accuracy: 0.5570 - loss: 1.6863 - val_accuracy: 0.7500 - val_loss: 1.6416\n",
      "Epoch 57/250\n",
      "1/1 - 1s - 992ms/step - accuracy: 0.4342 - loss: 1.7839 - val_accuracy: 0.7500 - val_loss: 1.5682\n",
      "Epoch 58/250\n",
      "1/1 - 1s - 950ms/step - accuracy: 0.5482 - loss: 1.6657 - val_accuracy: 0.7500 - val_loss: 1.4913\n",
      "Epoch 59/250\n",
      "1/1 - 1s - 966ms/step - accuracy: 0.5614 - loss: 1.5205 - val_accuracy: 0.7500 - val_loss: 1.4047\n",
      "Epoch 60/250\n",
      "1/1 - 1s - 1000ms/step - accuracy: 0.5614 - loss: 1.5864 - val_accuracy: 0.8333 - val_loss: 1.3251\n",
      "Epoch 61/250\n",
      "1/1 - 1s - 956ms/step - accuracy: 0.5833 - loss: 1.4422 - val_accuracy: 0.9167 - val_loss: 1.2328\n",
      "Epoch 62/250\n",
      "1/1 - 1s - 999ms/step - accuracy: 0.5088 - loss: 1.5478 - val_accuracy: 0.9167 - val_loss: 1.1477\n",
      "Epoch 63/250\n",
      "1/1 - 1s - 1s/step - accuracy: 0.6184 - loss: 1.3768 - val_accuracy: 0.9167 - val_loss: 1.0791\n",
      "Epoch 64/250\n",
      "1/1 - 1s - 994ms/step - accuracy: 0.6535 - loss: 1.3417 - val_accuracy: 0.9167 - val_loss: 1.0192\n",
      "Epoch 65/250\n",
      "1/1 - 1s - 991ms/step - accuracy: 0.6667 - loss: 1.2586 - val_accuracy: 0.9167 - val_loss: 0.9675\n",
      "Epoch 66/250\n",
      "1/1 - 1s - 1s/step - accuracy: 0.5877 - loss: 1.3176 - val_accuracy: 0.9167 - val_loss: 0.9145\n",
      "Epoch 67/250\n",
      "1/1 - 1s - 978ms/step - accuracy: 0.6711 - loss: 1.1692 - val_accuracy: 0.9167 - val_loss: 0.8639\n",
      "Epoch 68/250\n",
      "1/1 - 1s - 1s/step - accuracy: 0.6535 - loss: 1.1384 - val_accuracy: 0.9167 - val_loss: 0.8082\n",
      "Epoch 69/250\n",
      "1/1 - 1s - 1s/step - accuracy: 0.6623 - loss: 1.0877 - val_accuracy: 1.0000 - val_loss: 0.7636\n",
      "Epoch 70/250\n",
      "1/1 - 1s - 1s/step - accuracy: 0.6711 - loss: 1.1284 - val_accuracy: 1.0000 - val_loss: 0.7110\n",
      "Epoch 71/250\n",
      "1/1 - 1s - 968ms/step - accuracy: 0.7412 - loss: 0.9938 - val_accuracy: 1.0000 - val_loss: 0.6645\n",
      "Epoch 72/250\n",
      "1/1 - 1s - 1s/step - accuracy: 0.7368 - loss: 0.9479 - val_accuracy: 1.0000 - val_loss: 0.6157\n",
      "Epoch 73/250\n",
      "1/1 - 1s - 1s/step - accuracy: 0.7456 - loss: 0.8987 - val_accuracy: 1.0000 - val_loss: 0.5657\n",
      "Epoch 74/250\n",
      "1/1 - 1s - 1s/step - accuracy: 0.7368 - loss: 0.8747 - val_accuracy: 1.0000 - val_loss: 0.5187\n",
      "Epoch 75/250\n",
      "1/1 - 1s - 1s/step - accuracy: 0.7939 - loss: 0.7184 - val_accuracy: 1.0000 - val_loss: 0.4767\n",
      "Epoch 76/250\n",
      "1/1 - 1s - 982ms/step - accuracy: 0.7588 - loss: 0.7824 - val_accuracy: 1.0000 - val_loss: 0.4364\n",
      "Epoch 77/250\n",
      "1/1 - 1s - 1s/step - accuracy: 0.8377 - loss: 0.6428 - val_accuracy: 1.0000 - val_loss: 0.3989\n",
      "Epoch 78/250\n",
      "1/1 - 1s - 1s/step - accuracy: 0.7851 - loss: 0.7024 - val_accuracy: 1.0000 - val_loss: 0.3641\n",
      "Epoch 79/250\n",
      "1/1 - 1s - 961ms/step - accuracy: 0.8289 - loss: 0.5820 - val_accuracy: 1.0000 - val_loss: 0.3373\n",
      "Epoch 80/250\n",
      "1/1 - 1s - 975ms/step - accuracy: 0.8026 - loss: 0.6737 - val_accuracy: 1.0000 - val_loss: 0.2923\n",
      "Epoch 81/250\n",
      "1/1 - 1s - 1000ms/step - accuracy: 0.7982 - loss: 0.7337 - val_accuracy: 1.0000 - val_loss: 0.2496\n",
      "Epoch 82/250\n",
      "1/1 - 1s - 966ms/step - accuracy: 0.8202 - loss: 0.6316 - val_accuracy: 1.0000 - val_loss: 0.2329\n",
      "Epoch 83/250\n",
      "1/1 - 1s - 1s/step - accuracy: 0.8640 - loss: 0.5049 - val_accuracy: 1.0000 - val_loss: 0.2349\n",
      "Epoch 84/250\n",
      "1/1 - 1s - 993ms/step - accuracy: 0.8509 - loss: 0.5294 - val_accuracy: 1.0000 - val_loss: 0.2377\n",
      "Epoch 85/250\n",
      "1/1 - 1s - 983ms/step - accuracy: 0.8289 - loss: 0.5479 - val_accuracy: 1.0000 - val_loss: 0.2030\n",
      "Epoch 86/250\n",
      "1/1 - 1s - 992ms/step - accuracy: 0.8772 - loss: 0.4836 - val_accuracy: 1.0000 - val_loss: 0.1739\n",
      "Epoch 87/250\n",
      "1/1 - 1s - 1000ms/step - accuracy: 0.8553 - loss: 0.5158 - val_accuracy: 1.0000 - val_loss: 0.1638\n",
      "Epoch 88/250\n",
      "1/1 - 1s - 975ms/step - accuracy: 0.8816 - loss: 0.4162 - val_accuracy: 1.0000 - val_loss: 0.1843\n",
      "Epoch 89/250\n",
      "1/1 - 1s - 978ms/step - accuracy: 0.8947 - loss: 0.3856 - val_accuracy: 1.0000 - val_loss: 0.1937\n",
      "Epoch 90/250\n",
      "1/1 - 1s - 987ms/step - accuracy: 0.8728 - loss: 0.4248 - val_accuracy: 1.0000 - val_loss: 0.1793\n",
      "Epoch 91/250\n",
      "1/1 - 1s - 975ms/step - accuracy: 0.8728 - loss: 0.4284 - val_accuracy: 1.0000 - val_loss: 0.1440\n",
      "Epoch 92/250\n",
      "1/1 - 1s - 1s/step - accuracy: 0.9123 - loss: 0.3385 - val_accuracy: 1.0000 - val_loss: 0.1111\n",
      "Epoch 93/250\n",
      "1/1 - 1s - 1000ms/step - accuracy: 0.9254 - loss: 0.3464 - val_accuracy: 1.0000 - val_loss: 0.0989\n",
      "Epoch 94/250\n",
      "1/1 - 1s - 995ms/step - accuracy: 0.9342 - loss: 0.3422 - val_accuracy: 1.0000 - val_loss: 0.1038\n",
      "Epoch 95/250\n",
      "1/1 - 1s - 1s/step - accuracy: 0.9342 - loss: 0.3040 - val_accuracy: 1.0000 - val_loss: 0.0980\n",
      "Epoch 96/250\n",
      "1/1 - 1s - 1s/step - accuracy: 0.8991 - loss: 0.3006 - val_accuracy: 1.0000 - val_loss: 0.0804\n",
      "Epoch 97/250\n",
      "1/1 - 1s - 1000ms/step - accuracy: 0.8772 - loss: 0.3682 - val_accuracy: 1.0000 - val_loss: 0.0658\n",
      "Epoch 98/250\n",
      "1/1 - 1s - 1s/step - accuracy: 0.9123 - loss: 0.3058 - val_accuracy: 1.0000 - val_loss: 0.0591\n",
      "Epoch 99/250\n",
      "1/1 - 1s - 1s/step - accuracy: 0.8947 - loss: 0.3294 - val_accuracy: 1.0000 - val_loss: 0.0592\n",
      "Epoch 100/250\n",
      "1/1 - 1s - 983ms/step - accuracy: 0.9474 - loss: 0.2289 - val_accuracy: 1.0000 - val_loss: 0.0582\n",
      "Epoch 101/250\n",
      "1/1 - 1s - 983ms/step - accuracy: 0.8991 - loss: 0.3212 - val_accuracy: 1.0000 - val_loss: 0.0535\n",
      "Epoch 102/250\n",
      "1/1 - 1s - 983ms/step - accuracy: 0.8991 - loss: 0.3019 - val_accuracy: 1.0000 - val_loss: 0.0452\n",
      "Epoch 103/250\n",
      "1/1 - 1s - 970ms/step - accuracy: 0.9254 - loss: 0.2427 - val_accuracy: 1.0000 - val_loss: 0.0367\n",
      "Epoch 104/250\n",
      "1/1 - 1s - 971ms/step - accuracy: 0.9254 - loss: 0.2328 - val_accuracy: 1.0000 - val_loss: 0.0436\n",
      "Epoch 105/250\n",
      "1/1 - 1s - 991ms/step - accuracy: 0.9430 - loss: 0.2405 - val_accuracy: 1.0000 - val_loss: 0.0546\n",
      "Epoch 106/250\n",
      "1/1 - 1s - 975ms/step - accuracy: 0.9167 - loss: 0.2605 - val_accuracy: 1.0000 - val_loss: 0.0747\n",
      "Epoch 107/250\n",
      "1/1 - 1s - 975ms/step - accuracy: 0.9430 - loss: 0.2207 - val_accuracy: 1.0000 - val_loss: 0.0769\n",
      "Epoch 108/250\n",
      "1/1 - 1s - 992ms/step - accuracy: 0.9342 - loss: 0.2221 - val_accuracy: 1.0000 - val_loss: 0.0572\n",
      "Epoch 109/250\n",
      "1/1 - 1s - 950ms/step - accuracy: 0.9474 - loss: 0.1878 - val_accuracy: 1.0000 - val_loss: 0.0402\n",
      "Epoch 110/250\n",
      "1/1 - 1s - 992ms/step - accuracy: 0.9737 - loss: 0.1486 - val_accuracy: 1.0000 - val_loss: 0.0322\n",
      "Epoch 111/250\n",
      "1/1 - 1s - 966ms/step - accuracy: 0.9561 - loss: 0.1902 - val_accuracy: 1.0000 - val_loss: 0.0302\n",
      "Epoch 112/250\n",
      "1/1 - 1s - 983ms/step - accuracy: 0.9693 - loss: 0.1571 - val_accuracy: 1.0000 - val_loss: 0.0327\n",
      "Epoch 113/250\n",
      "1/1 - 1s - 967ms/step - accuracy: 0.9561 - loss: 0.1855 - val_accuracy: 1.0000 - val_loss: 0.0440\n",
      "Epoch 114/250\n",
      "1/1 - 1s - 991ms/step - accuracy: 0.9781 - loss: 0.1445 - val_accuracy: 1.0000 - val_loss: 0.0539\n",
      "Epoch 115/250\n",
      "1/1 - 1s - 975ms/step - accuracy: 0.9605 - loss: 0.1568 - val_accuracy: 1.0000 - val_loss: 0.0515\n",
      "Epoch 116/250\n",
      "1/1 - 1s - 975ms/step - accuracy: 0.9649 - loss: 0.1474 - val_accuracy: 1.0000 - val_loss: 0.0345\n",
      "Epoch 117/250\n",
      "1/1 - 1s - 975ms/step - accuracy: 0.9561 - loss: 0.1570 - val_accuracy: 1.0000 - val_loss: 0.0251\n",
      "Epoch 118/250\n",
      "1/1 - 1s - 983ms/step - accuracy: 0.9825 - loss: 0.1127 - val_accuracy: 1.0000 - val_loss: 0.0204\n",
      "Epoch 119/250\n",
      "1/1 - 1s - 1s/step - accuracy: 0.9868 - loss: 0.0962 - val_accuracy: 1.0000 - val_loss: 0.0189\n",
      "Epoch 120/250\n",
      "1/1 - 1s - 992ms/step - accuracy: 0.9649 - loss: 0.1245 - val_accuracy: 1.0000 - val_loss: 0.0191\n",
      "Epoch 121/250\n",
      "1/1 - 1s - 1000ms/step - accuracy: 0.9868 - loss: 0.1033 - val_accuracy: 1.0000 - val_loss: 0.0198\n",
      "Epoch 122/250\n",
      "1/1 - 1s - 1s/step - accuracy: 0.9693 - loss: 0.1310 - val_accuracy: 1.0000 - val_loss: 0.0191\n",
      "Epoch 123/250\n",
      "1/1 - 1s - 975ms/step - accuracy: 0.9737 - loss: 0.1154 - val_accuracy: 1.0000 - val_loss: 0.0160\n",
      "Epoch 124/250\n",
      "1/1 - 1s - 1s/step - accuracy: 0.9737 - loss: 0.0983 - val_accuracy: 1.0000 - val_loss: 0.0155\n",
      "Epoch 125/250\n",
      "1/1 - 1s - 1s/step - accuracy: 0.9605 - loss: 0.1225 - val_accuracy: 1.0000 - val_loss: 0.0155\n",
      "Epoch 126/250\n",
      "1/1 - 1s - 975ms/step - accuracy: 0.9693 - loss: 0.0987 - val_accuracy: 1.0000 - val_loss: 0.0126\n",
      "Epoch 127/250\n",
      "1/1 - 1s - 984ms/step - accuracy: 0.9605 - loss: 0.1387 - val_accuracy: 1.0000 - val_loss: 0.0110\n",
      "Epoch 128/250\n",
      "1/1 - 1s - 966ms/step - accuracy: 0.9781 - loss: 0.0989 - val_accuracy: 1.0000 - val_loss: 0.0122\n",
      "Epoch 129/250\n",
      "1/1 - 1s - 992ms/step - accuracy: 0.9825 - loss: 0.0967 - val_accuracy: 1.0000 - val_loss: 0.0157\n",
      "Epoch 130/250\n",
      "1/1 - 1s - 1s/step - accuracy: 0.9781 - loss: 0.1175 - val_accuracy: 1.0000 - val_loss: 0.0225\n",
      "Epoch 131/250\n",
      "1/1 - 1s - 975ms/step - accuracy: 0.9737 - loss: 0.0744 - val_accuracy: 1.0000 - val_loss: 0.0289\n",
      "Epoch 132/250\n",
      "1/1 - 1s - 1000ms/step - accuracy: 0.9781 - loss: 0.0904 - val_accuracy: 1.0000 - val_loss: 0.0163\n",
      "Epoch 133/250\n",
      "1/1 - 1s - 967ms/step - accuracy: 0.9693 - loss: 0.0978 - val_accuracy: 1.0000 - val_loss: 0.0105\n",
      "Epoch 134/250\n",
      "1/1 - 1s - 1s/step - accuracy: 0.9956 - loss: 0.0602 - val_accuracy: 1.0000 - val_loss: 0.0073\n",
      "Epoch 135/250\n",
      "1/1 - 1s - 991ms/step - accuracy: 0.9781 - loss: 0.0792 - val_accuracy: 1.0000 - val_loss: 0.0060\n",
      "Epoch 136/250\n",
      "1/1 - 1s - 1000ms/step - accuracy: 0.9912 - loss: 0.0869 - val_accuracy: 1.0000 - val_loss: 0.0063\n",
      "Epoch 137/250\n",
      "1/1 - 1s - 1s/step - accuracy: 0.9825 - loss: 0.0750 - val_accuracy: 1.0000 - val_loss: 0.0087\n",
      "Epoch 138/250\n",
      "1/1 - 1s - 983ms/step - accuracy: 0.9956 - loss: 0.0655 - val_accuracy: 1.0000 - val_loss: 0.0119\n",
      "Epoch 139/250\n",
      "1/1 - 1s - 1s/step - accuracy: 0.9781 - loss: 0.0744 - val_accuracy: 1.0000 - val_loss: 0.0105\n",
      "Epoch 140/250\n",
      "1/1 - 1s - 1s/step - accuracy: 0.9912 - loss: 0.0561 - val_accuracy: 1.0000 - val_loss: 0.0069\n",
      "Epoch 141/250\n",
      "1/1 - 1s - 1s/step - accuracy: 1.0000 - loss: 0.0563 - val_accuracy: 1.0000 - val_loss: 0.0045\n",
      "Epoch 142/250\n",
      "1/1 - 1s - 979ms/step - accuracy: 0.9825 - loss: 0.0833 - val_accuracy: 1.0000 - val_loss: 0.0038\n",
      "Epoch 143/250\n",
      "1/1 - 1s - 985ms/step - accuracy: 0.9781 - loss: 0.0726 - val_accuracy: 1.0000 - val_loss: 0.0033\n",
      "Epoch 144/250\n",
      "1/1 - 1s - 990ms/step - accuracy: 0.9956 - loss: 0.0454 - val_accuracy: 1.0000 - val_loss: 0.0030\n",
      "Epoch 145/250\n",
      "1/1 - 1s - 1000ms/step - accuracy: 0.9912 - loss: 0.0624 - val_accuracy: 1.0000 - val_loss: 0.0028\n",
      "Epoch 146/250\n",
      "1/1 - 1s - 983ms/step - accuracy: 0.9825 - loss: 0.0760 - val_accuracy: 1.0000 - val_loss: 0.0030\n",
      "Epoch 147/250\n",
      "1/1 - 1s - 992ms/step - accuracy: 0.9868 - loss: 0.0527 - val_accuracy: 1.0000 - val_loss: 0.0040\n",
      "Epoch 148/250\n",
      "1/1 - 1s - 1s/step - accuracy: 1.0000 - loss: 0.0343 - val_accuracy: 1.0000 - val_loss: 0.0059\n",
      "Epoch 149/250\n",
      "1/1 - 1s - 1s/step - accuracy: 0.9825 - loss: 0.0656 - val_accuracy: 1.0000 - val_loss: 0.0074\n",
      "Epoch 150/250\n",
      "1/1 - 1s - 966ms/step - accuracy: 0.9825 - loss: 0.0896 - val_accuracy: 1.0000 - val_loss: 0.0073\n",
      "Epoch 151/250\n",
      "1/1 - 1s - 1s/step - accuracy: 0.9912 - loss: 0.0556 - val_accuracy: 1.0000 - val_loss: 0.0061\n",
      "Epoch 152/250\n",
      "1/1 - 1s - 992ms/step - accuracy: 0.9868 - loss: 0.0544 - val_accuracy: 1.0000 - val_loss: 0.0047\n",
      "Epoch 153/250\n",
      "1/1 - 1s - 1s/step - accuracy: 0.9825 - loss: 0.0426 - val_accuracy: 1.0000 - val_loss: 0.0036\n",
      "Epoch 154/250\n",
      "1/1 - 1s - 1s/step - accuracy: 0.9912 - loss: 0.0409 - val_accuracy: 1.0000 - val_loss: 0.0033\n",
      "Epoch 155/250\n",
      "1/1 - 1s - 1s/step - accuracy: 0.9868 - loss: 0.0620 - val_accuracy: 1.0000 - val_loss: 0.0035\n",
      "Epoch 156/250\n",
      "1/1 - 1s - 1s/step - accuracy: 0.9868 - loss: 0.0485 - val_accuracy: 1.0000 - val_loss: 0.0051\n",
      "Epoch 157/250\n",
      "1/1 - 1s - 1s/step - accuracy: 0.9956 - loss: 0.0344 - val_accuracy: 1.0000 - val_loss: 0.0089\n",
      "Epoch 158/250\n",
      "1/1 - 1s - 1s/step - accuracy: 0.9956 - loss: 0.0397 - val_accuracy: 1.0000 - val_loss: 0.0158\n",
      "Epoch 159/250\n",
      "1/1 - 1s - 991ms/step - accuracy: 0.9825 - loss: 0.0875 - val_accuracy: 1.0000 - val_loss: 0.0107\n",
      "Epoch 160/250\n",
      "1/1 - 1s - 992ms/step - accuracy: 0.9912 - loss: 0.0471 - val_accuracy: 1.0000 - val_loss: 0.0069\n",
      "Epoch 161/250\n",
      "1/1 - 1s - 1s/step - accuracy: 0.9912 - loss: 0.0566 - val_accuracy: 1.0000 - val_loss: 0.0043\n",
      "Epoch 162/250\n",
      "1/1 - 1s - 1s/step - accuracy: 0.9956 - loss: 0.0328 - val_accuracy: 1.0000 - val_loss: 0.0031\n",
      "Epoch 163/250\n",
      "1/1 - 1s - 1s/step - accuracy: 0.9956 - loss: 0.0414 - val_accuracy: 1.0000 - val_loss: 0.0024\n",
      "Epoch 164/250\n",
      "1/1 - 1s - 1s/step - accuracy: 0.9912 - loss: 0.0406 - val_accuracy: 1.0000 - val_loss: 0.0021\n",
      "Epoch 165/250\n",
      "1/1 - 1s - 1s/step - accuracy: 0.9825 - loss: 0.0603 - val_accuracy: 1.0000 - val_loss: 0.0019\n",
      "Epoch 166/250\n",
      "1/1 - 1s - 1s/step - accuracy: 0.9912 - loss: 0.0414 - val_accuracy: 1.0000 - val_loss: 0.0021\n",
      "Epoch 167/250\n",
      "1/1 - 1s - 1s/step - accuracy: 1.0000 - loss: 0.0290 - val_accuracy: 1.0000 - val_loss: 0.0029\n",
      "Epoch 168/250\n",
      "1/1 - 1s - 1s/step - accuracy: 0.9825 - loss: 0.0547 - val_accuracy: 1.0000 - val_loss: 0.0038\n",
      "Epoch 169/250\n",
      "1/1 - 1s - 1s/step - accuracy: 0.9956 - loss: 0.0292 - val_accuracy: 1.0000 - val_loss: 0.0048\n",
      "Epoch 170/250\n",
      "1/1 - 1s - 1s/step - accuracy: 1.0000 - loss: 0.0285 - val_accuracy: 1.0000 - val_loss: 0.0050\n",
      "Epoch 171/250\n",
      "1/1 - 1s - 997ms/step - accuracy: 0.9868 - loss: 0.0508 - val_accuracy: 1.0000 - val_loss: 0.0036\n",
      "Epoch 172/250\n",
      "1/1 - 1s - 1s/step - accuracy: 0.9956 - loss: 0.0343 - val_accuracy: 1.0000 - val_loss: 0.0025\n",
      "Epoch 173/250\n",
      "1/1 - 1s - 1s/step - accuracy: 0.9912 - loss: 0.0435 - val_accuracy: 1.0000 - val_loss: 0.0017\n",
      "Epoch 174/250\n",
      "1/1 - 1s - 1s/step - accuracy: 0.9868 - loss: 0.0443 - val_accuracy: 1.0000 - val_loss: 0.0013\n",
      "Epoch 175/250\n",
      "1/1 - 1s - 1s/step - accuracy: 0.9956 - loss: 0.0311 - val_accuracy: 1.0000 - val_loss: 0.0013\n",
      "Epoch 176/250\n",
      "1/1 - 1s - 1s/step - accuracy: 0.9956 - loss: 0.0332 - val_accuracy: 1.0000 - val_loss: 0.0016\n",
      "Epoch 177/250\n",
      "1/1 - 1s - 1s/step - accuracy: 0.9912 - loss: 0.0394 - val_accuracy: 1.0000 - val_loss: 0.0021\n",
      "Epoch 178/250\n",
      "1/1 - 1s - 1s/step - accuracy: 0.9956 - loss: 0.0332 - val_accuracy: 1.0000 - val_loss: 0.0032\n",
      "Epoch 179/250\n",
      "1/1 - 1s - 1000ms/step - accuracy: 0.9868 - loss: 0.0298 - val_accuracy: 1.0000 - val_loss: 0.0050\n",
      "Epoch 180/250\n",
      "1/1 - 1s - 1s/step - accuracy: 0.9912 - loss: 0.0465 - val_accuracy: 1.0000 - val_loss: 0.0067\n",
      "Epoch 181/250\n",
      "1/1 - 1s - 1s/step - accuracy: 1.0000 - loss: 0.0290 - val_accuracy: 1.0000 - val_loss: 0.0059\n",
      "Epoch 182/250\n",
      "1/1 - 1s - 1s/step - accuracy: 0.9956 - loss: 0.0288 - val_accuracy: 1.0000 - val_loss: 0.0042\n",
      "Epoch 183/250\n",
      "1/1 - 1s - 1s/step - accuracy: 0.9825 - loss: 0.0321 - val_accuracy: 1.0000 - val_loss: 0.0027\n",
      "Epoch 184/250\n",
      "1/1 - 1s - 1s/step - accuracy: 0.9912 - loss: 0.0368 - val_accuracy: 1.0000 - val_loss: 0.0021\n",
      "Epoch 185/250\n",
      "1/1 - 1s - 1s/step - accuracy: 0.9912 - loss: 0.0340 - val_accuracy: 1.0000 - val_loss: 0.0016\n",
      "Epoch 186/250\n",
      "1/1 - 1s - 995ms/step - accuracy: 0.9781 - loss: 0.0429 - val_accuracy: 1.0000 - val_loss: 0.0015\n",
      "Epoch 187/250\n",
      "1/1 - 1s - 988ms/step - accuracy: 1.0000 - loss: 0.0197 - val_accuracy: 1.0000 - val_loss: 0.0015\n",
      "Epoch 188/250\n",
      "1/1 - 1s - 1s/step - accuracy: 0.9956 - loss: 0.0314 - val_accuracy: 1.0000 - val_loss: 0.0014\n",
      "Epoch 189/250\n",
      "1/1 - 1s - 976ms/step - accuracy: 0.9956 - loss: 0.0330 - val_accuracy: 1.0000 - val_loss: 0.0015\n",
      "Epoch 190/250\n",
      "1/1 - 1s - 989ms/step - accuracy: 0.9912 - loss: 0.0454 - val_accuracy: 1.0000 - val_loss: 0.0013\n",
      "Epoch 191/250\n",
      "1/1 - 1s - 992ms/step - accuracy: 0.9912 - loss: 0.0299 - val_accuracy: 1.0000 - val_loss: 9.3141e-04\n",
      "Epoch 192/250\n",
      "1/1 - 1s - 983ms/step - accuracy: 0.9912 - loss: 0.0269 - val_accuracy: 1.0000 - val_loss: 8.1067e-04\n",
      "Epoch 193/250\n",
      "1/1 - 1s - 1s/step - accuracy: 1.0000 - loss: 0.0177 - val_accuracy: 1.0000 - val_loss: 7.7869e-04\n",
      "Epoch 194/250\n",
      "1/1 - 1s - 1s/step - accuracy: 0.9956 - loss: 0.0202 - val_accuracy: 1.0000 - val_loss: 7.9356e-04\n",
      "Epoch 195/250\n",
      "1/1 - 1s - 983ms/step - accuracy: 0.9956 - loss: 0.0242 - val_accuracy: 1.0000 - val_loss: 8.3564e-04\n",
      "Epoch 196/250\n",
      "1/1 - 1s - 958ms/step - accuracy: 0.9956 - loss: 0.0229 - val_accuracy: 1.0000 - val_loss: 8.5643e-04\n",
      "Epoch 197/250\n",
      "1/1 - 1s - 958ms/step - accuracy: 1.0000 - loss: 0.0241 - val_accuracy: 1.0000 - val_loss: 9.0351e-04\n",
      "Epoch 198/250\n",
      "1/1 - 1s - 958ms/step - accuracy: 1.0000 - loss: 0.0239 - val_accuracy: 1.0000 - val_loss: 9.9753e-04\n",
      "Epoch 199/250\n",
      "1/1 - 1s - 966ms/step - accuracy: 1.0000 - loss: 0.0148 - val_accuracy: 1.0000 - val_loss: 0.0011\n",
      "Epoch 200/250\n",
      "1/1 - 1s - 981ms/step - accuracy: 0.9956 - loss: 0.0183 - val_accuracy: 1.0000 - val_loss: 0.0015\n",
      "Epoch 201/250\n",
      "1/1 - 1s - 954ms/step - accuracy: 0.9956 - loss: 0.0210 - val_accuracy: 1.0000 - val_loss: 0.0022\n",
      "Epoch 202/250\n",
      "1/1 - 1s - 958ms/step - accuracy: 0.9956 - loss: 0.0265 - val_accuracy: 1.0000 - val_loss: 0.0026\n",
      "Epoch 203/250\n",
      "1/1 - 1s - 983ms/step - accuracy: 0.9956 - loss: 0.0239 - val_accuracy: 1.0000 - val_loss: 0.0036\n",
      "Epoch 204/250\n",
      "1/1 - 1s - 975ms/step - accuracy: 0.9956 - loss: 0.0189 - val_accuracy: 1.0000 - val_loss: 0.0039\n",
      "Epoch 205/250\n",
      "1/1 - 1s - 975ms/step - accuracy: 1.0000 - loss: 0.0144 - val_accuracy: 1.0000 - val_loss: 0.0034\n",
      "Epoch 206/250\n",
      "1/1 - 1s - 985ms/step - accuracy: 0.9868 - loss: 0.0555 - val_accuracy: 1.0000 - val_loss: 0.0027\n",
      "Epoch 207/250\n",
      "1/1 - 1s - 998ms/step - accuracy: 1.0000 - loss: 0.0112 - val_accuracy: 1.0000 - val_loss: 0.0023\n",
      "Epoch 208/250\n",
      "1/1 - 1s - 1s/step - accuracy: 1.0000 - loss: 0.0133 - val_accuracy: 1.0000 - val_loss: 0.0018\n",
      "Epoch 209/250\n",
      "1/1 - 1s - 1s/step - accuracy: 0.9956 - loss: 0.0216 - val_accuracy: 1.0000 - val_loss: 0.0011\n",
      "Epoch 210/250\n",
      "1/1 - 1s - 975ms/step - accuracy: 0.9868 - loss: 0.0343 - val_accuracy: 1.0000 - val_loss: 7.0206e-04\n",
      "Epoch 211/250\n",
      "1/1 - 1s - 1000ms/step - accuracy: 1.0000 - loss: 0.0137 - val_accuracy: 1.0000 - val_loss: 5.7399e-04\n",
      "Epoch 212/250\n",
      "1/1 - 1s - 975ms/step - accuracy: 0.9912 - loss: 0.0299 - val_accuracy: 1.0000 - val_loss: 5.0424e-04\n",
      "Epoch 213/250\n",
      "1/1 - 1s - 991ms/step - accuracy: 0.9956 - loss: 0.0202 - val_accuracy: 1.0000 - val_loss: 5.7780e-04\n",
      "Epoch 214/250\n",
      "1/1 - 1s - 958ms/step - accuracy: 1.0000 - loss: 0.0155 - val_accuracy: 1.0000 - val_loss: 6.9847e-04\n",
      "Epoch 215/250\n",
      "1/1 - 1s - 991ms/step - accuracy: 0.9956 - loss: 0.0151 - val_accuracy: 1.0000 - val_loss: 7.5933e-04\n",
      "Epoch 216/250\n",
      "1/1 - 1s - 983ms/step - accuracy: 0.9956 - loss: 0.0186 - val_accuracy: 1.0000 - val_loss: 7.1458e-04\n",
      "Epoch 217/250\n",
      "1/1 - 1s - 991ms/step - accuracy: 1.0000 - loss: 0.0217 - val_accuracy: 1.0000 - val_loss: 7.7779e-04\n",
      "Epoch 218/250\n",
      "1/1 - 1s - 1s/step - accuracy: 0.9956 - loss: 0.0219 - val_accuracy: 1.0000 - val_loss: 8.7416e-04\n",
      "Epoch 219/250\n",
      "1/1 - 1s - 1s/step - accuracy: 0.9956 - loss: 0.0190 - val_accuracy: 1.0000 - val_loss: 9.1777e-04\n",
      "Epoch 220/250\n",
      "1/1 - 1s - 1s/step - accuracy: 1.0000 - loss: 0.0121 - val_accuracy: 1.0000 - val_loss: 8.9135e-04\n",
      "Epoch 221/250\n",
      "1/1 - 1s - 1s/step - accuracy: 1.0000 - loss: 0.0133 - val_accuracy: 1.0000 - val_loss: 6.9697e-04\n",
      "Epoch 222/250\n",
      "1/1 - 1s - 1s/step - accuracy: 1.0000 - loss: 0.0144 - val_accuracy: 1.0000 - val_loss: 5.2146e-04\n",
      "Epoch 223/250\n",
      "1/1 - 1s - 1s/step - accuracy: 0.9956 - loss: 0.0273 - val_accuracy: 1.0000 - val_loss: 4.3251e-04\n",
      "Epoch 224/250\n",
      "1/1 - 1s - 1s/step - accuracy: 1.0000 - loss: 0.0098 - val_accuracy: 1.0000 - val_loss: 3.5327e-04\n",
      "Epoch 225/250\n",
      "1/1 - 1s - 1s/step - accuracy: 0.9956 - loss: 0.0210 - val_accuracy: 1.0000 - val_loss: 3.5030e-04\n",
      "Epoch 226/250\n",
      "1/1 - 1s - 1000ms/step - accuracy: 0.9912 - loss: 0.0235 - val_accuracy: 1.0000 - val_loss: 3.5794e-04\n",
      "Epoch 227/250\n",
      "1/1 - 1s - 1s/step - accuracy: 1.0000 - loss: 0.0094 - val_accuracy: 1.0000 - val_loss: 3.4656e-04\n",
      "Epoch 228/250\n",
      "1/1 - 1s - 1s/step - accuracy: 1.0000 - loss: 0.0146 - val_accuracy: 1.0000 - val_loss: 3.4254e-04\n",
      "Epoch 229/250\n",
      "1/1 - 1s - 1s/step - accuracy: 0.9868 - loss: 0.0242 - val_accuracy: 1.0000 - val_loss: 2.3972e-04\n",
      "Epoch 230/250\n",
      "1/1 - 1s - 1s/step - accuracy: 0.9912 - loss: 0.0319 - val_accuracy: 1.0000 - val_loss: 2.1103e-04\n",
      "Epoch 231/250\n",
      "1/1 - 1s - 1s/step - accuracy: 1.0000 - loss: 0.0125 - val_accuracy: 1.0000 - val_loss: 2.2615e-04\n",
      "Epoch 232/250\n",
      "1/1 - 1s - 1s/step - accuracy: 0.9956 - loss: 0.0314 - val_accuracy: 1.0000 - val_loss: 2.8281e-04\n",
      "Epoch 233/250\n",
      "1/1 - 1s - 1s/step - accuracy: 1.0000 - loss: 0.0116 - val_accuracy: 1.0000 - val_loss: 3.8370e-04\n",
      "Epoch 234/250\n",
      "1/1 - 1s - 1s/step - accuracy: 0.9956 - loss: 0.0176 - val_accuracy: 1.0000 - val_loss: 4.7161e-04\n",
      "Epoch 235/250\n",
      "1/1 - 1s - 1s/step - accuracy: 1.0000 - loss: 0.0089 - val_accuracy: 1.0000 - val_loss: 5.9972e-04\n",
      "Epoch 236/250\n",
      "1/1 - 1s - 1s/step - accuracy: 0.9912 - loss: 0.0206 - val_accuracy: 1.0000 - val_loss: 9.3975e-04\n",
      "Epoch 237/250\n",
      "1/1 - 1s - 1s/step - accuracy: 0.9956 - loss: 0.0176 - val_accuracy: 1.0000 - val_loss: 0.0015\n",
      "Epoch 238/250\n",
      "1/1 - 1s - 1s/step - accuracy: 0.9912 - loss: 0.0203 - val_accuracy: 1.0000 - val_loss: 0.0016\n",
      "Epoch 239/250\n",
      "1/1 - 1s - 1s/step - accuracy: 0.9912 - loss: 0.0237 - val_accuracy: 1.0000 - val_loss: 0.0012\n",
      "Epoch 240/250\n",
      "1/1 - 1s - 1s/step - accuracy: 1.0000 - loss: 0.0134 - val_accuracy: 1.0000 - val_loss: 9.0953e-04\n",
      "Epoch 241/250\n",
      "1/1 - 1s - 1s/step - accuracy: 0.9956 - loss: 0.0153 - val_accuracy: 1.0000 - val_loss: 6.0371e-04\n",
      "Epoch 242/250\n",
      "1/1 - 1s - 1s/step - accuracy: 0.9956 - loss: 0.0193 - val_accuracy: 1.0000 - val_loss: 3.7072e-04\n",
      "Epoch 243/250\n",
      "1/1 - 1s - 1s/step - accuracy: 1.0000 - loss: 0.0142 - val_accuracy: 1.0000 - val_loss: 2.8928e-04\n",
      "Epoch 244/250\n",
      "1/1 - 1s - 1s/step - accuracy: 0.9956 - loss: 0.0303 - val_accuracy: 1.0000 - val_loss: 2.7139e-04\n",
      "Epoch 245/250\n",
      "1/1 - 1s - 1s/step - accuracy: 1.0000 - loss: 0.0157 - val_accuracy: 1.0000 - val_loss: 2.6734e-04\n",
      "Epoch 246/250\n",
      "1/1 - 1s - 1s/step - accuracy: 1.0000 - loss: 0.0114 - val_accuracy: 1.0000 - val_loss: 3.0515e-04\n",
      "Epoch 247/250\n",
      "1/1 - 1s - 1000ms/step - accuracy: 0.9956 - loss: 0.0162 - val_accuracy: 1.0000 - val_loss: 4.4887e-04\n",
      "Epoch 248/250\n",
      "1/1 - 1s - 1s/step - accuracy: 0.9956 - loss: 0.0186 - val_accuracy: 1.0000 - val_loss: 7.4577e-04\n",
      "Epoch 249/250\n",
      "1/1 - 1s - 1s/step - accuracy: 1.0000 - loss: 0.0063 - val_accuracy: 1.0000 - val_loss: 0.0013\n",
      "Epoch 250/250\n",
      "1/1 - 1s - 1s/step - accuracy: 0.9868 - loss: 0.0278 - val_accuracy: 1.0000 - val_loss: 0.0015\n"
     ]
    }
   ],
   "source": [
    "history=cnn_model.fit(\n",
    "    np.array(x_train), np.array(y_train), batch_size=512,\n",
    "    epochs=250, verbose=2,\n",
    "    validation_data=(np.array(x_valid),np.array(y_valid)),\n",
    ")"
   ]
  },
  {
   "cell_type": "markdown",
   "metadata": {
    "id": "1KE5d1_LopS3"
   },
   "source": [
    "##Evaluate the test data"
   ]
  },
  {
   "cell_type": "code",
   "execution_count": 13,
   "metadata": {
    "colab": {
     "base_uri": "https://localhost:8080/"
    },
    "id": "hiY9Ezm0Wm-p",
    "outputId": "23b06bf3-6175-4091-c77d-3c6392078706"
   },
   "outputs": [
    {
     "name": "stdout",
     "output_type": "stream",
     "text": [
      "test los 0.2739\n",
      "test acc 0.9625\n"
     ]
    }
   ],
   "source": [
    "scor = cnn_model.evaluate( np.array(x_test),  np.array(y_test), verbose=0)\n",
    "\n",
    "print('test los {:.4f}'.format(scor[0]))\n",
    "print('test acc {:.4f}'.format(scor[1]))"
   ]
  },
  {
   "cell_type": "markdown",
   "metadata": {
    "id": "q31BdYA-oyJg"
   },
   "source": [
    "**Step 7**\n",
    "\n",
    "\n",
    "plot the result"
   ]
  },
  {
   "cell_type": "code",
   "execution_count": 14,
   "metadata": {
    "colab": {
     "base_uri": "https://localhost:8080/",
     "height": 590
    },
    "id": "nVn_-d2WXn--",
    "outputId": "82b0924f-ab52-48d7-8731-38f1cd554290"
   },
   "outputs": [
    {
     "name": "stdout",
     "output_type": "stream",
     "text": [
      "dict_keys(['accuracy', 'loss', 'val_accuracy', 'val_loss'])\n"
     ]
    },
    {
     "data": {
      "image/png": "[encoded data removed]",
      "text/plain": [
       "<Figure size 640x480 with 1 Axes>"
      ]
     },
     "metadata": {},
     "output_type": "display_data"
    },
    {
     "data": {
      "image/png": "[encoded data removed]",
      "text/plain": [
       "<Figure size 640x480 with 1 Axes>"
      ]
     },
     "metadata": {},
     "output_type": "display_data"
    }
   ],
   "source": [
    "# list all data in history\n",
    "print(history.history.keys())\n",
    "# summarize history for accuracy\n",
    "plt.plot(history.history['accuracy'])\n",
    "plt.plot(history.history['val_accuracy'])\n",
    "plt.title('model accuracy')\n",
    "plt.ylabel('accuracy')\n",
    "plt.xlabel('epoch')\n",
    "plt.legend(['train', 'test'], loc='upper left')\n",
    "plt.show()\n",
    "# summarize history for loss\n",
    "plt.plot(history.history['loss'])\n",
    "plt.plot(history.history['val_loss'])\n",
    "plt.title('model loss')\n",
    "plt.ylabel('loss')\n",
    "plt.xlabel('epoch')\n",
    "plt.legend(['train', 'test'], loc='upper left')\n",
    "plt.show()\n"
   ]
  },
  {
   "cell_type": "markdown",
   "metadata": {
    "id": "7i_-Tzo7o_i6"
   },
   "source": [
    "**Step 8**\n",
    "\n",
    "\n",
    "Plot Confusion Matrix"
   ]
  },
  {
   "cell_type": "code",
   "execution_count": 16,
   "metadata": {
    "colab": {
     "base_uri": "https://localhost:8080/",
     "height": 1000
    },
    "id": "SlLLf94kX4Gz",
    "outputId": "f5e511b2-02fa-4202-f9d0-a77271227f1d",
    "scrolled": true
   },
   "outputs": [
    {
     "name": "stdout",
     "output_type": "stream",
     "text": [
      "\u001b[1m5/5\u001b[0m \u001b[32m━━━━━━━━━━━━━━━━━━━━\u001b[0m\u001b[37m\u001b[0m \u001b[1m0s\u001b[0m 38ms/step\n",
      "\u001b[1m5/5\u001b[0m \u001b[32m━━━━━━━━━━━━━━━━━━━━\u001b[0m\u001b[37m\u001b[0m \u001b[1m0s\u001b[0m 35ms/step\n",
      "accuracy : \n",
      "0.9625\n",
      "Confusion matrix, without normalization\n",
      "[[8 0 0 0 0 0 0 0 0 0 0 0 0 0 0 0 0 0 0 0]\n",
      " [0 8 0 0 0 0 0 0 0 0 0 0 0 0 0 0 0 0 0 0]\n",
      " [0 0 8 0 0 0 0 0 0 0 0 0 0 0 0 0 0 0 0 0]\n",
      " [0 0 0 8 0 0 0 0 0 0 0 0 0 0 0 0 0 0 0 0]\n",
      " [0 0 0 0 6 0 0 0 0 0 0 0 0 0 0 0 0 2 0 0]\n",
      " [0 0 0 0 0 8 0 0 0 0 0 0 0 0 0 0 0 0 0 0]\n",
      " [0 0 0 0 0 0 8 0 0 0 0 0 0 0 0 0 0 0 0 0]\n",
      " [0 0 0 0 0 0 0 8 0 0 0 0 0 0 0 0 0 0 0 0]\n",
      " [0 0 0 0 0 0 0 0 8 0 0 0 0 0 0 0 0 0 0 0]\n",
      " [0 0 0 0 0 0 0 2 0 6 0 0 0 0 0 0 0 0 0 0]\n",
      " [0 0 0 0 0 0 0 0 0 0 8 0 0 0 0 0 0 0 0 0]\n",
      " [0 0 0 0 0 0 0 0 0 0 0 8 0 0 0 0 0 0 0 0]\n",
      " [0 0 0 0 0 0 0 0 0 0 0 0 8 0 0 0 0 0 0 0]\n",
      " [0 0 0 0 0 0 0 0 0 0 0 0 0 8 0 0 0 0 0 0]\n",
      " [0 0 0 0 0 0 0 0 0 0 0 0 0 0 8 0 0 0 0 0]\n",
      " [0 0 0 0 0 0 0 0 0 0 0 0 0 0 0 8 0 0 0 0]\n",
      " [0 0 0 0 0 0 0 0 0 0 0 0 0 0 0 0 8 0 0 0]\n",
      " [0 0 0 0 0 0 0 0 0 0 0 0 0 0 0 0 0 8 0 0]\n",
      " [0 0 0 0 0 0 0 2 0 0 0 0 0 0 0 0 0 0 6 0]\n",
      " [0 0 0 0 0 0 0 0 0 0 0 0 0 0 0 0 0 0 0 8]]\n",
      "Confusion matrix, without normalization\n"
     ]
    },
    {
     "data": {
      "image/png": "[encoded data removed]",
      "text/plain": [
       "<Figure size 640x480 with 2 Axes>"
      ]
     },
     "metadata": {},
     "output_type": "display_data"
    },
    {
     "name": "stdout",
     "output_type": "stream",
     "text": [
      "Confusion matrix, without normalization\n"
     ]
    },
    {
     "data": {
      "image/png": "[encoded data removed]",
      "text/plain": [
       "<Figure size 640x480 with 2 Axes>"
      ]
     },
     "metadata": {},
     "output_type": "display_data"
    },
    {
     "name": "stdout",
     "output_type": "stream",
     "text": [
      "Confusion matrix:\n",
      "[[8 0 0 0 0 0 0 0 0 0 0 0 0 0 0 0 0 0 0 0]\n",
      " [0 8 0 0 0 0 0 0 0 0 0 0 0 0 0 0 0 0 0 0]\n",
      " [0 0 8 0 0 0 0 0 0 0 0 0 0 0 0 0 0 0 0 0]\n",
      " [0 0 0 8 0 0 0 0 0 0 0 0 0 0 0 0 0 0 0 0]\n",
      " [0 0 0 0 6 0 0 0 0 0 0 0 0 0 0 0 0 2 0 0]\n",
      " [0 0 0 0 0 8 0 0 0 0 0 0 0 0 0 0 0 0 0 0]\n",
      " [0 0 0 0 0 0 8 0 0 0 0 0 0 0 0 0 0 0 0 0]\n",
      " [0 0 0 0 0 0 0 8 0 0 0 0 0 0 0 0 0 0 0 0]\n",
      " [0 0 0 0 0 0 0 0 8 0 0 0 0 0 0 0 0 0 0 0]\n",
      " [0 0 0 0 0 0 0 2 0 6 0 0 0 0 0 0 0 0 0 0]\n",
      " [0 0 0 0 0 0 0 0 0 0 8 0 0 0 0 0 0 0 0 0]\n",
      " [0 0 0 0 0 0 0 0 0 0 0 8 0 0 0 0 0 0 0 0]\n",
      " [0 0 0 0 0 0 0 0 0 0 0 0 8 0 0 0 0 0 0 0]\n",
      " [0 0 0 0 0 0 0 0 0 0 0 0 0 8 0 0 0 0 0 0]\n",
      " [0 0 0 0 0 0 0 0 0 0 0 0 0 0 8 0 0 0 0 0]\n",
      " [0 0 0 0 0 0 0 0 0 0 0 0 0 0 0 8 0 0 0 0]\n",
      " [0 0 0 0 0 0 0 0 0 0 0 0 0 0 0 0 8 0 0 0]\n",
      " [0 0 0 0 0 0 0 0 0 0 0 0 0 0 0 0 0 8 0 0]\n",
      " [0 0 0 0 0 0 0 2 0 0 0 0 0 0 0 0 0 0 6 0]\n",
      " [0 0 0 0 0 0 0 0 0 0 0 0 0 0 0 0 0 0 0 8]]\n",
      "              precision    recall  f1-score   support\n",
      "\n",
      "           0       1.00      1.00      1.00         8\n",
      "           1       1.00      1.00      1.00         8\n",
      "           2       1.00      1.00      1.00         8\n",
      "           3       1.00      1.00      1.00         8\n",
      "           4       1.00      0.75      0.86         8\n",
      "           5       1.00      1.00      1.00         8\n",
      "           6       1.00      1.00      1.00         8\n",
      "           7       0.67      1.00      0.80         8\n",
      "           8       1.00      1.00      1.00         8\n",
      "           9       1.00      0.75      0.86         8\n",
      "          10       1.00      1.00      1.00         8\n",
      "          11       1.00      1.00      1.00         8\n",
      "          12       1.00      1.00      1.00         8\n",
      "          13       1.00      1.00      1.00         8\n",
      "          14       1.00      1.00      1.00         8\n",
      "          15       1.00      1.00      1.00         8\n",
      "          16       1.00      1.00      1.00         8\n",
      "          17       0.80      1.00      0.89         8\n",
      "          18       1.00      0.75      0.86         8\n",
      "          19       1.00      1.00      1.00         8\n",
      "\n",
      "    accuracy                           0.96       160\n",
      "   macro avg       0.97      0.96      0.96       160\n",
      "weighted avg       0.97      0.96      0.96       160\n",
      "\n"
     ]
    }
   ],
   "source": [
    "predicted =np.array( cnn_model.predict(x_test))\n",
    "#print(predicted)\n",
    "#print(y_test)\n",
    "ynew = cnn_model.predict(x_test)\n",
    "\n",
    "\n",
    "Acc=accuracy_score(y_test, ynew.argmax(axis=1) )\n",
    "print(\"accuracy : \")\n",
    "print(Acc)\n",
    "#/tn, fp, fn, tp = confusion_matrix(np.array(y_test), ynew).ravel()\n",
    "cnf_matrix=confusion_matrix(np.array(y_test), ynew.argmax(axis=1))\n",
    "\n",
    "y_test1 = to_categorical(y_test, 20)\n",
    "\n",
    "\n",
    "\n",
    "def plot_confusion_matrix(cm, classes,\n",
    "                          normalize=False,\n",
    "                          title='Confusion matrix',\n",
    "                          cmap=plt.cm.Blues):\n",
    "    \"\"\"\n",
    "    This function prints and plots the confusion matrix.\n",
    "    Normalization can be applied by setting `normalize=True`.\n",
    "    \"\"\"\n",
    "    if normalize:\n",
    "        cm = cm.astype('float') / cm.sum(axis=1)[:, np.newaxis]\n",
    "        #print(\"Normalized confusion matrix\")\n",
    "    else:\n",
    "        print('Confusion matrix, without normalization')\n",
    "\n",
    "    #print(cm)\n",
    "    plt.imshow(cm, interpolation='nearest', cmap=cmap)\n",
    "    plt.title(title)\n",
    "    plt.colorbar()\n",
    "    tick_marks = np.arange(len(classes))\n",
    "    plt.xticks(tick_marks, classes, rotation=45)\n",
    "    plt.yticks(tick_marks, classes)\n",
    "\n",
    "    fmt = '.2f' if normalize else 'd'\n",
    "    thresh = cm.max() / 2.\n",
    "    for i, j in itertools.product(range(cm.shape[0]), range(cm.shape[1])):\n",
    "        plt.text(j, i, format(cm[i, j], fmt),\n",
    "                 horizontalalignment=\"center\",\n",
    "                 color=\"white\" if cm[i, j] > thresh else \"black\")\n",
    "\n",
    "    plt.tight_layout()\n",
    "    plt.ylabel('True label')\n",
    "    plt.xlabel('Predicted label')\n",
    "    plt.show()\n",
    "\n",
    "\n",
    "print('Confusion matrix, without normalization')\n",
    "print(cnf_matrix)\n",
    "\n",
    "plt.figure()\n",
    "plot_confusion_matrix(cnf_matrix[1:10,1:10], classes=[0,1,2,3,4,5,6,7,8,9],\n",
    "                      title='Confusion matrix, without normalization')\n",
    "\n",
    "plt.figure()\n",
    "plot_confusion_matrix(cnf_matrix[11:20,11:20], classes=[10,11,12,13,14,15,16,17,18,19],\n",
    "                      title='Confusion matrix, without normalization')\n",
    "\n",
    "print(\"Confusion matrix:\\n%s\" % confusion_matrix(np.array(y_test), ynew.argmax(axis=1)))\n",
    "print(classification_report(np.array(y_test), ynew.argmax(axis=1)))"
   ]
  },
  {
   "cell_type": "code",
   "execution_count": null,
   "metadata": {
    "id": "io1eAT8_khln"
   },
   "outputs": [],
   "source": []
  },
  {
   "cell_type": "code",
   "execution_count": null,
   "metadata": {
    "id": "f8AMWMX6jax2"
   },
   "outputs": [],
   "source": []
  }
 ],
 "metadata": {
  "accelerator": "GPU",
  "colab": {
   "collapsed_sections": [],
   "name": "face_recog_by_me.ipynb",
   "provenance": []
  },
  "kernelspec": {
   "display_name": "Python 3 (ipykernel)",
   "language": "python",
   "name": "python3"
  },
  "language_info": {
   "codemirror_mode": {
    "name": "ipython",
    "version": 3
   },
   "file_extension": ".py",
   "mimetype": "text/x-python",
   "name": "python",
   "nbconvert_exporter": "python",
   "pygments_lexer": "ipython3",
   "version": "3.12.7"
  }
 },
 "nbformat": 4,
 "nbformat_minor": 4
}
