{
  "nbformat": 4,
  "nbformat_minor": 0,
  "metadata": {
    "accelerator": "GPU",
    "colab": {
      "name": "face_recog_by_me.ipynb",
      "provenance": [],
      "collapsed_sections": []
    },
    "kernelspec": {
      "display_name": "Python 3",
      "name": "python3"
    },
    "language_info": {
      "name": "python"
    }
  },
  "cells": [
    {
      "cell_type": "markdown",
      "metadata": {
        "id": "mYhkBW7zmp8O"
      },
      "source": [
        "###Face Recognition using Cnn\n",
        "\n",
        "\n",
        "\n",
        "\n",
        "**Step 1**\n",
        "\n",
        "\n",
        "At the first, you should input the required libraries:"
      ]
    },
    {
      "cell_type": "code",
      "metadata": {
        "colab": {
          "base_uri": "https://localhost:8080/"
        },
        "id": "bhDz8EhvQm8Y",
        "outputId": "b49252cd-b735-4fc2-db47-8eb7698e0347"
      },
      "source": [
        "pip install Adam"
      ],
      "execution_count": null,
      "outputs": [
        {
          "output_type": "stream",
          "name": "stdout",
          "text": [
            "Requirement already satisfied: Adam in /usr/local/lib/python3.7/dist-packages (0.0.0.dev0)\n"
          ]
        }
      ]
    },
    {
      "cell_type": "code",
      "metadata": {
        "id": "g7lKdTynTDOa"
      },
      "source": [
        "import tensorflow.keras\n",
        "import keras\n",
        "from tensorflow.keras.models import Sequential\n",
        "from tensorflow.keras.layers import Conv2D, MaxPooling2D, Dense, Flatten, Dropout\n",
        "from tensorflow.keras.optimizers import Adam\n",
        "from tensorflow.keras.callbacks import TensorBoard\n",
        "\n",
        "import numpy as np\n",
        "import pandas as pd\n",
        "import matplotlib.pyplot as plt\n",
        "from sklearn.model_selection import train_test_split\n",
        "\n",
        "from sklearn.metrics import confusion_matrix\n",
        "from sklearn.metrics import classification_report\n",
        "from sklearn.metrics import roc_curve, auc\n",
        "from sklearn.metrics import accuracy_score\n",
        "from keras.utils import np_utils\n",
        "import itertools"
      ],
      "execution_count": null,
      "outputs": []
    },
    {
      "cell_type": "markdown",
      "metadata": {
        "id": "84cR6ZVNnCJ5"
      },
      "source": [
        "**Step2:**\n",
        "#Load Dataset :\n",
        "\n",
        "```\n",
        "\n",
        "\n",
        "\n",
        "After loading the Dataset you have to normalize every image.\n",
        "\n",
        "Note: an image is a Uint8 matrix of pixels and for calculation, you need to convert the format of the image to float or double"
      ]
    },
    {
      "cell_type": "code",
      "metadata": {
        "colab": {
          "base_uri": "https://localhost:8080/"
        },
        "id": "qrEWWu8mVLC3",
        "outputId": "47529cdd-de95-42ca-b0f3-0a747f4757a6"
      },
      "source": [
        "#load dataset\n",
        "data = np.load('/content/drive/MyDrive/simplilearn/advanced deep learning and computer vision/project ada dl/ORL_faces.npz') \n",
        "\n",
        "# load the \"Train Images\"\n",
        "x_train = data['trainX']\n",
        "#normalize every image\n",
        "x_train = np.array(x_train,dtype='float32')/255\n",
        "\n",
        "x_test = data['testX']\n",
        "x_test = np.array(x_test,dtype='float32')/255\n",
        "\n",
        "# load the Label of Images\n",
        "y_train= data['trainY']\n",
        "y_test= data['testY']\n",
        "\n",
        "# show the train and test Data format\n",
        "print('x_train : {}'.format(x_train[:]))\n",
        "print('Y-train shape: {}'.format(y_train))\n",
        "print('x_test shape: {}'.format(x_test.shape))"
      ],
      "execution_count": null,
      "outputs": [
        {
          "output_type": "stream",
          "name": "stdout",
          "text": [
            "x_train : [[0.1882353  0.19215687 0.1764706  ... 0.18431373 0.18039216 0.18039216]\n",
            " [0.23529412 0.23529412 0.24313726 ... 0.1254902  0.13333334 0.13333334]\n",
            " [0.15294118 0.17254902 0.20784314 ... 0.11372549 0.10196079 0.11372549]\n",
            " ...\n",
            " [0.44705883 0.45882353 0.44705883 ... 0.38431373 0.3764706  0.38431373]\n",
            " [0.4117647  0.4117647  0.41960785 ... 0.21176471 0.18431373 0.16078432]\n",
            " [0.45490196 0.44705883 0.45882353 ... 0.37254903 0.39215687 0.39607844]]\n",
            "Y-train shape: [ 0  0  0  0  0  0  0  0  0  0  0  0  1  1  1  1  1  1  1  1  1  1  1  1\n",
            "  2  2  2  2  2  2  2  2  2  2  2  2  3  3  3  3  3  3  3  3  3  3  3  3\n",
            "  4  4  4  4  4  4  4  4  4  4  4  4  5  5  5  5  5  5  5  5  5  5  5  5\n",
            "  6  6  6  6  6  6  6  6  6  6  6  6  7  7  7  7  7  7  7  7  7  7  7  7\n",
            "  8  8  8  8  8  8  8  8  8  8  8  8  9  9  9  9  9  9  9  9  9  9  9  9\n",
            " 10 10 10 10 10 10 10 10 10 10 10 10 11 11 11 11 11 11 11 11 11 11 11 11\n",
            " 12 12 12 12 12 12 12 12 12 12 12 12 13 13 13 13 13 13 13 13 13 13 13 13\n",
            " 14 14 14 14 14 14 14 14 14 14 14 14 15 15 15 15 15 15 15 15 15 15 15 15\n",
            " 16 16 16 16 16 16 16 16 16 16 16 16 17 17 17 17 17 17 17 17 17 17 17 17\n",
            " 18 18 18 18 18 18 18 18 18 18 18 18 19 19 19 19 19 19 19 19 19 19 19 19]\n",
            "x_test shape: (160, 10304)\n"
          ]
        }
      ]
    },
    {
      "cell_type": "markdown",
      "metadata": {
        "id": "DIuawrccnlnS"
      },
      "source": [
        "**Step 3:**\n",
        "##Split DataSet : Validation data and Train\n",
        "\n",
        "Validation DataSet: this data set is used to minimize overfitting.If the accuracy over the training data set increases, but the accuracy over then validation data set stays the same or decreases, then you're overfitting your neural network and you should stop training.\n",
        "\n",
        "Note: we usually use 30 percent of every dataset as the validation data but Here we only used 5 percent because the number of images in this dataset is very low."
      ]
    },
    {
      "cell_type": "code",
      "metadata": {
        "id": "G9LEo1g1WIjt"
      },
      "source": [
        "x_train, x_valid, y_train, y_valid= train_test_split(\n",
        "    x_train, y_train, test_size=.05, random_state=1234,)"
      ],
      "execution_count": null,
      "outputs": []
    },
    {
      "cell_type": "markdown",
      "metadata": {
        "id": "_Hlpc89_n7fC"
      },
      "source": [
        "**Step 4**\n",
        "\n",
        "for using the CNN, we need to change The size of images ( The size of images must be the same)"
      ]
    },
    {
      "cell_type": "code",
      "metadata": {
        "colab": {
          "base_uri": "https://localhost:8080/"
        },
        "id": "3uw6P8jrVZuA",
        "outputId": "e1a4cf54-9367-4213-bc89-de4fbde7fe5a"
      },
      "source": [
        "im_rows=112\n",
        "im_cols=92\n",
        "batch_size=512\n",
        "im_shape=(im_rows, im_cols, 1)\n",
        "\n",
        "#change the size of images\n",
        "x_train = x_train.reshape(x_train.shape[0], *im_shape)\n",
        "x_test = x_test.reshape(x_test.shape[0], *im_shape)\n",
        "x_valid = x_valid.reshape(x_valid.shape[0], *im_shape)\n",
        "\n",
        "print('x_train shape: {}'.format(y_train.shape[0]))\n",
        "print('x_test shape: {}'.format(y_test.shape))\n",
        "\n"
      ],
      "execution_count": null,
      "outputs": [
        {
          "output_type": "stream",
          "name": "stdout",
          "text": [
            "x_train shape: 228\n",
            "x_test shape: (160,)\n"
          ]
        }
      ]
    },
    {
      "cell_type": "markdown",
      "metadata": {
        "id": "eqcw14YfoKXN"
      },
      "source": [
        "**Step 5:**\n",
        "\n",
        "\n",
        "Build CNN model: CNN have 3 main layer:\n",
        "\n",
        "1-Convolotional layer\n",
        "\n",
        "2- pooling layer\n",
        "\n",
        "3- fully connected layer\n",
        "\n",
        "We could build a new architecture of CNN by changing the number and position of layers."
      ]
    },
    {
      "cell_type": "code",
      "metadata": {
        "colab": {
          "base_uri": "https://localhost:8080/"
        },
        "id": "CpGKCcQfVy2t",
        "outputId": "c7004dc7-b96e-4a10-8aa6-077e6d48dc64"
      },
      "source": [
        "#filters= the depth of output image or kernels\n",
        "\n",
        "cnn_model= Sequential([\n",
        "    Conv2D(filters=36, kernel_size=7, activation='relu', input_shape= im_shape),\n",
        "    MaxPooling2D(pool_size=2),\n",
        "    Conv2D(filters=54, kernel_size=5, activation='relu', input_shape= im_shape),\n",
        "    MaxPooling2D(pool_size=2),\n",
        "    Flatten(),\n",
        "    Dense(2024, activation='relu'),\n",
        "     Dropout(0.5),\n",
        "    Dense(1024, activation='relu'),\n",
        "    Dropout(0.5),\n",
        "    Dense(512, activation='relu'),\n",
        "    Dropout(0.5),\n",
        "    #20 is the number of outputs\n",
        "    Dense(20, activation='softmax')  \n",
        "])\n",
        "\n",
        "cnn_model.compile(\n",
        "    loss='sparse_categorical_crossentropy',#'categorical_crossentropy',\n",
        "    optimizer=Adam(lr=0.0001),\n",
        "    metrics=['accuracy']\n",
        ")"
      ],
      "execution_count": null,
      "outputs": [
        {
          "output_type": "stream",
          "name": "stderr",
          "text": [
            "/usr/local/lib/python3.7/dist-packages/keras/optimizer_v2/optimizer_v2.py:356: UserWarning: The `lr` argument is deprecated, use `learning_rate` instead.\n",
            "  \"The `lr` argument is deprecated, use `learning_rate` instead.\")\n"
          ]
        }
      ]
    },
    {
      "cell_type": "markdown",
      "metadata": {
        "id": "eWnSD0N1oXpz"
      },
      "source": [
        "##Show the model's parameters."
      ]
    },
    {
      "cell_type": "code",
      "metadata": {
        "colab": {
          "base_uri": "https://localhost:8080/"
        },
        "id": "Ykegw35tWS6F",
        "outputId": "dc28e48b-9d24-40cf-bdbc-08ca66aa7a02"
      },
      "source": [
        "cnn_model.summary()"
      ],
      "execution_count": null,
      "outputs": [
        {
          "output_type": "stream",
          "name": "stdout",
          "text": [
            "Model: \"sequential_1\"\n",
            "_________________________________________________________________\n",
            "Layer (type)                 Output Shape              Param #   \n",
            "=================================================================\n",
            "conv2d_2 (Conv2D)            (None, 106, 86, 36)       1800      \n",
            "_________________________________________________________________\n",
            "max_pooling2d_2 (MaxPooling2 (None, 53, 43, 36)        0         \n",
            "_________________________________________________________________\n",
            "conv2d_3 (Conv2D)            (None, 49, 39, 54)        48654     \n",
            "_________________________________________________________________\n",
            "max_pooling2d_3 (MaxPooling2 (None, 24, 19, 54)        0         \n",
            "_________________________________________________________________\n",
            "flatten_1 (Flatten)          (None, 24624)             0         \n",
            "_________________________________________________________________\n",
            "dense_4 (Dense)              (None, 2024)              49841000  \n",
            "_________________________________________________________________\n",
            "dropout_3 (Dropout)          (None, 2024)              0         \n",
            "_________________________________________________________________\n",
            "dense_5 (Dense)              (None, 1024)              2073600   \n",
            "_________________________________________________________________\n",
            "dropout_4 (Dropout)          (None, 1024)              0         \n",
            "_________________________________________________________________\n",
            "dense_6 (Dense)              (None, 512)               524800    \n",
            "_________________________________________________________________\n",
            "dropout_5 (Dropout)          (None, 512)               0         \n",
            "_________________________________________________________________\n",
            "dense_7 (Dense)              (None, 20)                10260     \n",
            "=================================================================\n",
            "Total params: 52,500,114\n",
            "Trainable params: 52,500,114\n",
            "Non-trainable params: 0\n",
            "_________________________________________________________________\n"
          ]
        }
      ]
    },
    {
      "cell_type": "markdown",
      "metadata": {
        "id": "8bkvYygKoewB"
      },
      "source": [
        "**Step 6**\n",
        "\n",
        "Train the Model\n",
        "\n",
        "Note: You can change the number of epochs"
      ]
    },
    {
      "cell_type": "code",
      "metadata": {
        "colab": {
          "base_uri": "https://localhost:8080/"
        },
        "id": "XH-O66_mWijF",
        "outputId": "7bfff30c-78df-4468-b3a1-8acf46e5487d"
      },
      "source": [
        "history=cnn_model.fit(\n",
        "    np.array(x_train), np.array(y_train), batch_size=512,\n",
        "    epochs=250, verbose=2,\n",
        "    validation_data=(np.array(x_valid),np.array(y_valid)),\n",
        ")"
      ],
      "execution_count": null,
      "outputs": [
        {
          "output_type": "stream",
          "name": "stdout",
          "text": [
            "Epoch 1/250\n",
            "1/1 - 1s - loss: 2.9967 - accuracy: 0.0658 - val_loss: 2.9920 - val_accuracy: 0.1667\n",
            "Epoch 2/250\n",
            "1/1 - 0s - loss: 2.9940 - accuracy: 0.0526 - val_loss: 2.9932 - val_accuracy: 0.1667\n",
            "Epoch 3/250\n",
            "1/1 - 0s - loss: 2.9951 - accuracy: 0.0702 - val_loss: 2.9926 - val_accuracy: 0.1667\n",
            "Epoch 4/250\n",
            "1/1 - 0s - loss: 3.0101 - accuracy: 0.0482 - val_loss: 2.9918 - val_accuracy: 0.1667\n",
            "Epoch 5/250\n",
            "1/1 - 0s - loss: 2.9822 - accuracy: 0.0746 - val_loss: 2.9931 - val_accuracy: 0.1667\n",
            "Epoch 6/250\n",
            "1/1 - 0s - loss: 2.9909 - accuracy: 0.0439 - val_loss: 2.9916 - val_accuracy: 0.1667\n",
            "Epoch 7/250\n",
            "1/1 - 0s - loss: 2.9772 - accuracy: 0.0877 - val_loss: 2.9893 - val_accuracy: 0.1667\n",
            "Epoch 8/250\n",
            "1/1 - 0s - loss: 2.9751 - accuracy: 0.0833 - val_loss: 2.9875 - val_accuracy: 0.1667\n",
            "Epoch 9/250\n",
            "1/1 - 0s - loss: 2.9868 - accuracy: 0.0395 - val_loss: 2.9868 - val_accuracy: 0.2500\n",
            "Epoch 10/250\n",
            "1/1 - 0s - loss: 2.9725 - accuracy: 0.0746 - val_loss: 2.9871 - val_accuracy: 0.0000e+00\n",
            "Epoch 11/250\n",
            "1/1 - 0s - loss: 2.9580 - accuracy: 0.0965 - val_loss: 2.9864 - val_accuracy: 0.0000e+00\n",
            "Epoch 12/250\n",
            "1/1 - 0s - loss: 2.9612 - accuracy: 0.1140 - val_loss: 2.9853 - val_accuracy: 0.0000e+00\n",
            "Epoch 13/250\n",
            "1/1 - 0s - loss: 2.9452 - accuracy: 0.0965 - val_loss: 2.9829 - val_accuracy: 0.0000e+00\n",
            "Epoch 14/250\n",
            "1/1 - 0s - loss: 2.9497 - accuracy: 0.0833 - val_loss: 2.9796 - val_accuracy: 0.0000e+00\n",
            "Epoch 15/250\n",
            "1/1 - 0s - loss: 2.9199 - accuracy: 0.1623 - val_loss: 2.9758 - val_accuracy: 0.0000e+00\n",
            "Epoch 16/250\n",
            "1/1 - 0s - loss: 2.9319 - accuracy: 0.1316 - val_loss: 2.9692 - val_accuracy: 0.0000e+00\n",
            "Epoch 17/250\n",
            "1/1 - 0s - loss: 2.9183 - accuracy: 0.1184 - val_loss: 2.9612 - val_accuracy: 0.0000e+00\n",
            "Epoch 18/250\n",
            "1/1 - 0s - loss: 2.9148 - accuracy: 0.1360 - val_loss: 2.9538 - val_accuracy: 0.0000e+00\n",
            "Epoch 19/250\n",
            "1/1 - 0s - loss: 2.8904 - accuracy: 0.1535 - val_loss: 2.9469 - val_accuracy: 0.0000e+00\n",
            "Epoch 20/250\n",
            "1/1 - 0s - loss: 2.8891 - accuracy: 0.1447 - val_loss: 2.9400 - val_accuracy: 0.0000e+00\n",
            "Epoch 21/250\n",
            "1/1 - 0s - loss: 2.8714 - accuracy: 0.1579 - val_loss: 2.9325 - val_accuracy: 0.0000e+00\n",
            "Epoch 22/250\n",
            "1/1 - 0s - loss: 2.8654 - accuracy: 0.1579 - val_loss: 2.9241 - val_accuracy: 0.0000e+00\n",
            "Epoch 23/250\n",
            "1/1 - 0s - loss: 2.8561 - accuracy: 0.2105 - val_loss: 2.9125 - val_accuracy: 0.0000e+00\n",
            "Epoch 24/250\n",
            "1/1 - 0s - loss: 2.8298 - accuracy: 0.1798 - val_loss: 2.8985 - val_accuracy: 0.0000e+00\n",
            "Epoch 25/250\n",
            "1/1 - 0s - loss: 2.8251 - accuracy: 0.1535 - val_loss: 2.8802 - val_accuracy: 0.0000e+00\n",
            "Epoch 26/250\n",
            "1/1 - 0s - loss: 2.8207 - accuracy: 0.1711 - val_loss: 2.8583 - val_accuracy: 0.0000e+00\n",
            "Epoch 27/250\n",
            "1/1 - 0s - loss: 2.7858 - accuracy: 0.1623 - val_loss: 2.8346 - val_accuracy: 0.0000e+00\n",
            "Epoch 28/250\n",
            "1/1 - 0s - loss: 2.7697 - accuracy: 0.2061 - val_loss: 2.8105 - val_accuracy: 0.1667\n",
            "Epoch 29/250\n",
            "1/1 - 0s - loss: 2.7410 - accuracy: 0.2281 - val_loss: 2.7834 - val_accuracy: 0.1667\n",
            "Epoch 30/250\n",
            "1/1 - 0s - loss: 2.7026 - accuracy: 0.2281 - val_loss: 2.7524 - val_accuracy: 0.1667\n",
            "Epoch 31/250\n",
            "1/1 - 0s - loss: 2.6513 - accuracy: 0.2763 - val_loss: 2.7156 - val_accuracy: 0.2500\n",
            "Epoch 32/250\n",
            "1/1 - 0s - loss: 2.6448 - accuracy: 0.2763 - val_loss: 2.6673 - val_accuracy: 0.1667\n",
            "Epoch 33/250\n",
            "1/1 - 0s - loss: 2.5738 - accuracy: 0.2719 - val_loss: 2.6168 - val_accuracy: 0.2500\n",
            "Epoch 34/250\n",
            "1/1 - 0s - loss: 2.5605 - accuracy: 0.3246 - val_loss: 2.5634 - val_accuracy: 0.3333\n",
            "Epoch 35/250\n",
            "1/1 - 0s - loss: 2.4960 - accuracy: 0.3596 - val_loss: 2.5084 - val_accuracy: 0.3333\n",
            "Epoch 36/250\n",
            "1/1 - 0s - loss: 2.4426 - accuracy: 0.3333 - val_loss: 2.4631 - val_accuracy: 0.4167\n",
            "Epoch 37/250\n",
            "1/1 - 0s - loss: 2.4203 - accuracy: 0.2982 - val_loss: 2.4013 - val_accuracy: 0.4167\n",
            "Epoch 38/250\n",
            "1/1 - 0s - loss: 2.3670 - accuracy: 0.3509 - val_loss: 2.3315 - val_accuracy: 0.4167\n",
            "Epoch 39/250\n",
            "1/1 - 0s - loss: 2.2753 - accuracy: 0.3947 - val_loss: 2.2646 - val_accuracy: 0.5000\n",
            "Epoch 40/250\n",
            "1/1 - 0s - loss: 2.2689 - accuracy: 0.3904 - val_loss: 2.2034 - val_accuracy: 0.4167\n",
            "Epoch 41/250\n",
            "1/1 - 0s - loss: 2.2271 - accuracy: 0.3596 - val_loss: 2.1397 - val_accuracy: 0.4167\n",
            "Epoch 42/250\n",
            "1/1 - 0s - loss: 2.1645 - accuracy: 0.4035 - val_loss: 2.0729 - val_accuracy: 0.5000\n",
            "Epoch 43/250\n",
            "1/1 - 0s - loss: 2.0654 - accuracy: 0.4386 - val_loss: 2.0065 - val_accuracy: 0.5000\n",
            "Epoch 44/250\n",
            "1/1 - 0s - loss: 2.0114 - accuracy: 0.4386 - val_loss: 1.9384 - val_accuracy: 0.5833\n",
            "Epoch 45/250\n",
            "1/1 - 0s - loss: 1.9341 - accuracy: 0.4737 - val_loss: 1.8610 - val_accuracy: 0.6667\n",
            "Epoch 46/250\n",
            "1/1 - 0s - loss: 1.8910 - accuracy: 0.4868 - val_loss: 1.7826 - val_accuracy: 0.6667\n",
            "Epoch 47/250\n",
            "1/1 - 0s - loss: 1.8498 - accuracy: 0.4693 - val_loss: 1.7046 - val_accuracy: 0.8333\n",
            "Epoch 48/250\n",
            "1/1 - 0s - loss: 1.8122 - accuracy: 0.4956 - val_loss: 1.6232 - val_accuracy: 0.9167\n",
            "Epoch 49/250\n",
            "1/1 - 0s - loss: 1.7498 - accuracy: 0.5044 - val_loss: 1.5420 - val_accuracy: 0.9167\n",
            "Epoch 50/250\n",
            "1/1 - 0s - loss: 1.6572 - accuracy: 0.5351 - val_loss: 1.4697 - val_accuracy: 0.9167\n",
            "Epoch 51/250\n",
            "1/1 - 0s - loss: 1.6666 - accuracy: 0.5044 - val_loss: 1.3951 - val_accuracy: 0.9167\n",
            "Epoch 52/250\n",
            "1/1 - 0s - loss: 1.5236 - accuracy: 0.5702 - val_loss: 1.3255 - val_accuracy: 0.8333\n",
            "Epoch 53/250\n",
            "1/1 - 0s - loss: 1.4160 - accuracy: 0.6009 - val_loss: 1.2547 - val_accuracy: 0.8333\n",
            "Epoch 54/250\n",
            "1/1 - 0s - loss: 1.3866 - accuracy: 0.6272 - val_loss: 1.1925 - val_accuracy: 0.8333\n",
            "Epoch 55/250\n",
            "1/1 - 0s - loss: 1.3882 - accuracy: 0.5965 - val_loss: 1.1015 - val_accuracy: 1.0000\n",
            "Epoch 56/250\n",
            "1/1 - 0s - loss: 1.3006 - accuracy: 0.6228 - val_loss: 1.0381 - val_accuracy: 1.0000\n",
            "Epoch 57/250\n",
            "1/1 - 0s - loss: 1.3306 - accuracy: 0.5614 - val_loss: 0.9735 - val_accuracy: 1.0000\n",
            "Epoch 58/250\n",
            "1/1 - 0s - loss: 1.1778 - accuracy: 0.6667 - val_loss: 0.9261 - val_accuracy: 1.0000\n",
            "Epoch 59/250\n",
            "1/1 - 0s - loss: 1.1167 - accuracy: 0.6886 - val_loss: 0.8760 - val_accuracy: 0.9167\n",
            "Epoch 60/250\n",
            "1/1 - 0s - loss: 1.1002 - accuracy: 0.6974 - val_loss: 0.7966 - val_accuracy: 1.0000\n",
            "Epoch 61/250\n",
            "1/1 - 0s - loss: 1.1411 - accuracy: 0.6447 - val_loss: 0.7302 - val_accuracy: 1.0000\n",
            "Epoch 62/250\n",
            "1/1 - 0s - loss: 1.0541 - accuracy: 0.7105 - val_loss: 0.6682 - val_accuracy: 1.0000\n",
            "Epoch 63/250\n",
            "1/1 - 0s - loss: 0.9340 - accuracy: 0.7105 - val_loss: 0.6064 - val_accuracy: 1.0000\n",
            "Epoch 64/250\n",
            "1/1 - 0s - loss: 0.8938 - accuracy: 0.7149 - val_loss: 0.5472 - val_accuracy: 1.0000\n",
            "Epoch 65/250\n",
            "1/1 - 0s - loss: 0.7666 - accuracy: 0.8158 - val_loss: 0.4810 - val_accuracy: 1.0000\n",
            "Epoch 66/250\n",
            "1/1 - 0s - loss: 0.7725 - accuracy: 0.8114 - val_loss: 0.4233 - val_accuracy: 1.0000\n",
            "Epoch 67/250\n",
            "1/1 - 0s - loss: 0.7714 - accuracy: 0.7719 - val_loss: 0.3773 - val_accuracy: 1.0000\n",
            "Epoch 68/250\n",
            "1/1 - 0s - loss: 0.7701 - accuracy: 0.7895 - val_loss: 0.3557 - val_accuracy: 1.0000\n",
            "Epoch 69/250\n",
            "1/1 - 0s - loss: 0.6961 - accuracy: 0.7763 - val_loss: 0.3216 - val_accuracy: 1.0000\n",
            "Epoch 70/250\n",
            "1/1 - 0s - loss: 0.6379 - accuracy: 0.8026 - val_loss: 0.2926 - val_accuracy: 1.0000\n",
            "Epoch 71/250\n",
            "1/1 - 0s - loss: 0.7011 - accuracy: 0.7719 - val_loss: 0.2779 - val_accuracy: 1.0000\n",
            "Epoch 72/250\n",
            "1/1 - 0s - loss: 0.5897 - accuracy: 0.8333 - val_loss: 0.2737 - val_accuracy: 1.0000\n",
            "Epoch 73/250\n",
            "1/1 - 0s - loss: 0.4991 - accuracy: 0.8860 - val_loss: 0.2767 - val_accuracy: 0.9167\n",
            "Epoch 74/250\n",
            "1/1 - 0s - loss: 0.5665 - accuracy: 0.8246 - val_loss: 0.2581 - val_accuracy: 0.9167\n",
            "Epoch 75/250\n",
            "1/1 - 0s - loss: 0.5376 - accuracy: 0.8596 - val_loss: 0.2107 - val_accuracy: 1.0000\n",
            "Epoch 76/250\n",
            "1/1 - 0s - loss: 0.5834 - accuracy: 0.8246 - val_loss: 0.1904 - val_accuracy: 1.0000\n",
            "Epoch 77/250\n",
            "1/1 - 0s - loss: 0.4691 - accuracy: 0.8816 - val_loss: 0.1755 - val_accuracy: 1.0000\n",
            "Epoch 78/250\n",
            "1/1 - 0s - loss: 0.4471 - accuracy: 0.8772 - val_loss: 0.1634 - val_accuracy: 1.0000\n",
            "Epoch 79/250\n",
            "1/1 - 0s - loss: 0.4227 - accuracy: 0.8860 - val_loss: 0.1414 - val_accuracy: 1.0000\n",
            "Epoch 80/250\n",
            "1/1 - 0s - loss: 0.3945 - accuracy: 0.8904 - val_loss: 0.1096 - val_accuracy: 1.0000\n",
            "Epoch 81/250\n",
            "1/1 - 0s - loss: 0.3810 - accuracy: 0.8772 - val_loss: 0.0995 - val_accuracy: 1.0000\n",
            "Epoch 82/250\n",
            "1/1 - 0s - loss: 0.3922 - accuracy: 0.8947 - val_loss: 0.0992 - val_accuracy: 1.0000\n",
            "Epoch 83/250\n",
            "1/1 - 0s - loss: 0.3060 - accuracy: 0.9123 - val_loss: 0.0926 - val_accuracy: 1.0000\n",
            "Epoch 84/250\n",
            "1/1 - 0s - loss: 0.3447 - accuracy: 0.9167 - val_loss: 0.0762 - val_accuracy: 1.0000\n",
            "Epoch 85/250\n",
            "1/1 - 0s - loss: 0.3450 - accuracy: 0.9298 - val_loss: 0.0670 - val_accuracy: 1.0000\n",
            "Epoch 86/250\n",
            "1/1 - 0s - loss: 0.2917 - accuracy: 0.9167 - val_loss: 0.0640 - val_accuracy: 1.0000\n",
            "Epoch 87/250\n",
            "1/1 - 0s - loss: 0.2773 - accuracy: 0.9298 - val_loss: 0.0663 - val_accuracy: 1.0000\n",
            "Epoch 88/250\n",
            "1/1 - 0s - loss: 0.2198 - accuracy: 0.9430 - val_loss: 0.0828 - val_accuracy: 1.0000\n",
            "Epoch 89/250\n",
            "1/1 - 0s - loss: 0.2294 - accuracy: 0.9430 - val_loss: 0.0826 - val_accuracy: 1.0000\n",
            "Epoch 90/250\n",
            "1/1 - 0s - loss: 0.2593 - accuracy: 0.9254 - val_loss: 0.0676 - val_accuracy: 1.0000\n",
            "Epoch 91/250\n",
            "1/1 - 0s - loss: 0.2022 - accuracy: 0.9386 - val_loss: 0.0528 - val_accuracy: 1.0000\n",
            "Epoch 92/250\n",
            "1/1 - 0s - loss: 0.1805 - accuracy: 0.9561 - val_loss: 0.0428 - val_accuracy: 1.0000\n",
            "Epoch 93/250\n",
            "1/1 - 0s - loss: 0.1907 - accuracy: 0.9518 - val_loss: 0.0406 - val_accuracy: 1.0000\n",
            "Epoch 94/250\n",
            "1/1 - 0s - loss: 0.1782 - accuracy: 0.9561 - val_loss: 0.0504 - val_accuracy: 1.0000\n",
            "Epoch 95/250\n",
            "1/1 - 0s - loss: 0.2115 - accuracy: 0.9342 - val_loss: 0.0599 - val_accuracy: 1.0000\n",
            "Epoch 96/250\n",
            "1/1 - 0s - loss: 0.1534 - accuracy: 0.9605 - val_loss: 0.0538 - val_accuracy: 1.0000\n",
            "Epoch 97/250\n",
            "1/1 - 0s - loss: 0.1233 - accuracy: 0.9781 - val_loss: 0.0409 - val_accuracy: 1.0000\n",
            "Epoch 98/250\n",
            "1/1 - 0s - loss: 0.1654 - accuracy: 0.9649 - val_loss: 0.0285 - val_accuracy: 1.0000\n",
            "Epoch 99/250\n",
            "1/1 - 0s - loss: 0.2009 - accuracy: 0.9298 - val_loss: 0.0226 - val_accuracy: 1.0000\n",
            "Epoch 100/250\n",
            "1/1 - 0s - loss: 0.1840 - accuracy: 0.9518 - val_loss: 0.0243 - val_accuracy: 1.0000\n",
            "Epoch 101/250\n",
            "1/1 - 0s - loss: 0.1852 - accuracy: 0.9430 - val_loss: 0.0297 - val_accuracy: 1.0000\n",
            "Epoch 102/250\n",
            "1/1 - 0s - loss: 0.1306 - accuracy: 0.9868 - val_loss: 0.0332 - val_accuracy: 1.0000\n",
            "Epoch 103/250\n",
            "1/1 - 0s - loss: 0.1749 - accuracy: 0.9561 - val_loss: 0.0228 - val_accuracy: 1.0000\n",
            "Epoch 104/250\n",
            "1/1 - 0s - loss: 0.1136 - accuracy: 0.9825 - val_loss: 0.0193 - val_accuracy: 1.0000\n",
            "Epoch 105/250\n",
            "1/1 - 0s - loss: 0.1123 - accuracy: 0.9737 - val_loss: 0.0179 - val_accuracy: 1.0000\n",
            "Epoch 106/250\n",
            "1/1 - 0s - loss: 0.1460 - accuracy: 0.9605 - val_loss: 0.0170 - val_accuracy: 1.0000\n",
            "Epoch 107/250\n",
            "1/1 - 0s - loss: 0.0803 - accuracy: 0.9825 - val_loss: 0.0181 - val_accuracy: 1.0000\n",
            "Epoch 108/250\n",
            "1/1 - 0s - loss: 0.1005 - accuracy: 0.9825 - val_loss: 0.0231 - val_accuracy: 1.0000\n",
            "Epoch 109/250\n",
            "1/1 - 0s - loss: 0.1411 - accuracy: 0.9649 - val_loss: 0.0242 - val_accuracy: 1.0000\n",
            "Epoch 110/250\n",
            "1/1 - 0s - loss: 0.0931 - accuracy: 0.9912 - val_loss: 0.0202 - val_accuracy: 1.0000\n",
            "Epoch 111/250\n",
            "1/1 - 0s - loss: 0.1567 - accuracy: 0.9649 - val_loss: 0.0186 - val_accuracy: 1.0000\n",
            "Epoch 112/250\n",
            "1/1 - 0s - loss: 0.0842 - accuracy: 0.9956 - val_loss: 0.0168 - val_accuracy: 1.0000\n",
            "Epoch 113/250\n",
            "1/1 - 0s - loss: 0.0830 - accuracy: 0.9868 - val_loss: 0.0177 - val_accuracy: 1.0000\n",
            "Epoch 114/250\n",
            "1/1 - 0s - loss: 0.0880 - accuracy: 0.9781 - val_loss: 0.0200 - val_accuracy: 1.0000\n",
            "Epoch 115/250\n",
            "1/1 - 0s - loss: 0.0877 - accuracy: 0.9825 - val_loss: 0.0264 - val_accuracy: 1.0000\n",
            "Epoch 116/250\n",
            "1/1 - 0s - loss: 0.0761 - accuracy: 0.9825 - val_loss: 0.0390 - val_accuracy: 1.0000\n",
            "Epoch 117/250\n",
            "1/1 - 0s - loss: 0.0833 - accuracy: 0.9781 - val_loss: 0.0507 - val_accuracy: 1.0000\n",
            "Epoch 118/250\n",
            "1/1 - 0s - loss: 0.0836 - accuracy: 0.9825 - val_loss: 0.0448 - val_accuracy: 1.0000\n",
            "Epoch 119/250\n",
            "1/1 - 0s - loss: 0.0787 - accuracy: 0.9868 - val_loss: 0.0283 - val_accuracy: 1.0000\n",
            "Epoch 120/250\n",
            "1/1 - 0s - loss: 0.0717 - accuracy: 0.9825 - val_loss: 0.0171 - val_accuracy: 1.0000\n",
            "Epoch 121/250\n",
            "1/1 - 0s - loss: 0.0741 - accuracy: 0.9868 - val_loss: 0.0133 - val_accuracy: 1.0000\n",
            "Epoch 122/250\n",
            "1/1 - 0s - loss: 0.0740 - accuracy: 0.9868 - val_loss: 0.0125 - val_accuracy: 1.0000\n",
            "Epoch 123/250\n",
            "1/1 - 0s - loss: 0.0950 - accuracy: 0.9825 - val_loss: 0.0140 - val_accuracy: 1.0000\n",
            "Epoch 124/250\n",
            "1/1 - 0s - loss: 0.0723 - accuracy: 0.9868 - val_loss: 0.0163 - val_accuracy: 1.0000\n",
            "Epoch 125/250\n",
            "1/1 - 0s - loss: 0.0502 - accuracy: 0.9956 - val_loss: 0.0163 - val_accuracy: 1.0000\n",
            "Epoch 126/250\n",
            "1/1 - 0s - loss: 0.0518 - accuracy: 0.9912 - val_loss: 0.0156 - val_accuracy: 1.0000\n",
            "Epoch 127/250\n",
            "1/1 - 0s - loss: 0.0589 - accuracy: 0.9868 - val_loss: 0.0112 - val_accuracy: 1.0000\n",
            "Epoch 128/250\n",
            "1/1 - 0s - loss: 0.0640 - accuracy: 0.9825 - val_loss: 0.0082 - val_accuracy: 1.0000\n",
            "Epoch 129/250\n",
            "1/1 - 0s - loss: 0.0551 - accuracy: 0.9825 - val_loss: 0.0069 - val_accuracy: 1.0000\n",
            "Epoch 130/250\n",
            "1/1 - 0s - loss: 0.0774 - accuracy: 0.9868 - val_loss: 0.0062 - val_accuracy: 1.0000\n",
            "Epoch 131/250\n",
            "1/1 - 0s - loss: 0.0630 - accuracy: 0.9912 - val_loss: 0.0064 - val_accuracy: 1.0000\n",
            "Epoch 132/250\n",
            "1/1 - 0s - loss: 0.0709 - accuracy: 0.9868 - val_loss: 0.0071 - val_accuracy: 1.0000\n",
            "Epoch 133/250\n",
            "1/1 - 0s - loss: 0.0477 - accuracy: 0.9868 - val_loss: 0.0072 - val_accuracy: 1.0000\n",
            "Epoch 134/250\n",
            "1/1 - 0s - loss: 0.0574 - accuracy: 0.9825 - val_loss: 0.0047 - val_accuracy: 1.0000\n",
            "Epoch 135/250\n",
            "1/1 - 0s - loss: 0.0495 - accuracy: 0.9956 - val_loss: 0.0040 - val_accuracy: 1.0000\n",
            "Epoch 136/250\n",
            "1/1 - 0s - loss: 0.0552 - accuracy: 0.9825 - val_loss: 0.0039 - val_accuracy: 1.0000\n",
            "Epoch 137/250\n",
            "1/1 - 0s - loss: 0.0398 - accuracy: 1.0000 - val_loss: 0.0044 - val_accuracy: 1.0000\n",
            "Epoch 138/250\n",
            "1/1 - 0s - loss: 0.0497 - accuracy: 0.9868 - val_loss: 0.0049 - val_accuracy: 1.0000\n",
            "Epoch 139/250\n",
            "1/1 - 0s - loss: 0.0444 - accuracy: 0.9912 - val_loss: 0.0064 - val_accuracy: 1.0000\n",
            "Epoch 140/250\n",
            "1/1 - 0s - loss: 0.0484 - accuracy: 0.9956 - val_loss: 0.0089 - val_accuracy: 1.0000\n",
            "Epoch 141/250\n",
            "1/1 - 0s - loss: 0.0541 - accuracy: 0.9868 - val_loss: 0.0083 - val_accuracy: 1.0000\n",
            "Epoch 142/250\n",
            "1/1 - 0s - loss: 0.0440 - accuracy: 0.9956 - val_loss: 0.0058 - val_accuracy: 1.0000\n",
            "Epoch 143/250\n",
            "1/1 - 0s - loss: 0.0552 - accuracy: 0.9912 - val_loss: 0.0039 - val_accuracy: 1.0000\n",
            "Epoch 144/250\n",
            "1/1 - 0s - loss: 0.0379 - accuracy: 0.9956 - val_loss: 0.0032 - val_accuracy: 1.0000\n",
            "Epoch 145/250\n",
            "1/1 - 0s - loss: 0.0307 - accuracy: 0.9956 - val_loss: 0.0029 - val_accuracy: 1.0000\n",
            "Epoch 146/250\n",
            "1/1 - 0s - loss: 0.0411 - accuracy: 0.9956 - val_loss: 0.0031 - val_accuracy: 1.0000\n",
            "Epoch 147/250\n",
            "1/1 - 0s - loss: 0.0576 - accuracy: 0.9868 - val_loss: 0.0039 - val_accuracy: 1.0000\n",
            "Epoch 148/250\n",
            "1/1 - 0s - loss: 0.0576 - accuracy: 0.9912 - val_loss: 0.0059 - val_accuracy: 1.0000\n",
            "Epoch 149/250\n",
            "1/1 - 0s - loss: 0.0389 - accuracy: 1.0000 - val_loss: 0.0080 - val_accuracy: 1.0000\n",
            "Epoch 150/250\n",
            "1/1 - 0s - loss: 0.0527 - accuracy: 0.9825 - val_loss: 0.0075 - val_accuracy: 1.0000\n",
            "Epoch 151/250\n",
            "1/1 - 0s - loss: 0.0323 - accuracy: 0.9956 - val_loss: 0.0070 - val_accuracy: 1.0000\n",
            "Epoch 152/250\n",
            "1/1 - 0s - loss: 0.0315 - accuracy: 1.0000 - val_loss: 0.0059 - val_accuracy: 1.0000\n",
            "Epoch 153/250\n",
            "1/1 - 0s - loss: 0.0268 - accuracy: 1.0000 - val_loss: 0.0052 - val_accuracy: 1.0000\n",
            "Epoch 154/250\n",
            "1/1 - 0s - loss: 0.0422 - accuracy: 0.9868 - val_loss: 0.0042 - val_accuracy: 1.0000\n",
            "Epoch 155/250\n",
            "1/1 - 0s - loss: 0.0473 - accuracy: 0.9825 - val_loss: 0.0039 - val_accuracy: 1.0000\n",
            "Epoch 156/250\n",
            "1/1 - 0s - loss: 0.0433 - accuracy: 0.9956 - val_loss: 0.0037 - val_accuracy: 1.0000\n",
            "Epoch 157/250\n",
            "1/1 - 0s - loss: 0.0255 - accuracy: 0.9956 - val_loss: 0.0037 - val_accuracy: 1.0000\n",
            "Epoch 158/250\n",
            "1/1 - 0s - loss: 0.0244 - accuracy: 0.9956 - val_loss: 0.0040 - val_accuracy: 1.0000\n",
            "Epoch 159/250\n",
            "1/1 - 0s - loss: 0.0276 - accuracy: 0.9956 - val_loss: 0.0036 - val_accuracy: 1.0000\n",
            "Epoch 160/250\n",
            "1/1 - 0s - loss: 0.0192 - accuracy: 0.9956 - val_loss: 0.0031 - val_accuracy: 1.0000\n",
            "Epoch 161/250\n",
            "1/1 - 0s - loss: 0.0236 - accuracy: 0.9956 - val_loss: 0.0030 - val_accuracy: 1.0000\n",
            "Epoch 162/250\n",
            "1/1 - 0s - loss: 0.0266 - accuracy: 0.9956 - val_loss: 0.0029 - val_accuracy: 1.0000\n",
            "Epoch 163/250\n",
            "1/1 - 0s - loss: 0.0343 - accuracy: 0.9912 - val_loss: 0.0025 - val_accuracy: 1.0000\n",
            "Epoch 164/250\n",
            "1/1 - 0s - loss: 0.0287 - accuracy: 0.9956 - val_loss: 0.0022 - val_accuracy: 1.0000\n",
            "Epoch 165/250\n",
            "1/1 - 0s - loss: 0.0501 - accuracy: 0.9737 - val_loss: 0.0017 - val_accuracy: 1.0000\n",
            "Epoch 166/250\n",
            "1/1 - 0s - loss: 0.0199 - accuracy: 0.9956 - val_loss: 0.0014 - val_accuracy: 1.0000\n",
            "Epoch 167/250\n",
            "1/1 - 0s - loss: 0.0237 - accuracy: 0.9956 - val_loss: 0.0013 - val_accuracy: 1.0000\n",
            "Epoch 168/250\n",
            "1/1 - 0s - loss: 0.0263 - accuracy: 0.9956 - val_loss: 0.0017 - val_accuracy: 1.0000\n",
            "Epoch 169/250\n",
            "1/1 - 0s - loss: 0.0207 - accuracy: 1.0000 - val_loss: 0.0027 - val_accuracy: 1.0000\n",
            "Epoch 170/250\n",
            "1/1 - 0s - loss: 0.0377 - accuracy: 0.9825 - val_loss: 0.0029 - val_accuracy: 1.0000\n",
            "Epoch 171/250\n",
            "1/1 - 0s - loss: 0.0275 - accuracy: 0.9912 - val_loss: 0.0025 - val_accuracy: 1.0000\n",
            "Epoch 172/250\n",
            "1/1 - 0s - loss: 0.0273 - accuracy: 0.9912 - val_loss: 0.0025 - val_accuracy: 1.0000\n",
            "Epoch 173/250\n",
            "1/1 - 0s - loss: 0.0300 - accuracy: 0.9912 - val_loss: 0.0024 - val_accuracy: 1.0000\n",
            "Epoch 174/250\n",
            "1/1 - 0s - loss: 0.0330 - accuracy: 0.9912 - val_loss: 0.0024 - val_accuracy: 1.0000\n",
            "Epoch 175/250\n",
            "1/1 - 0s - loss: 0.0257 - accuracy: 0.9956 - val_loss: 0.0022 - val_accuracy: 1.0000\n",
            "Epoch 176/250\n",
            "1/1 - 0s - loss: 0.0196 - accuracy: 1.0000 - val_loss: 0.0022 - val_accuracy: 1.0000\n",
            "Epoch 177/250\n",
            "1/1 - 0s - loss: 0.0334 - accuracy: 0.9956 - val_loss: 0.0023 - val_accuracy: 1.0000\n",
            "Epoch 178/250\n",
            "1/1 - 0s - loss: 0.0222 - accuracy: 0.9956 - val_loss: 0.0026 - val_accuracy: 1.0000\n",
            "Epoch 179/250\n",
            "1/1 - 0s - loss: 0.0138 - accuracy: 0.9956 - val_loss: 0.0029 - val_accuracy: 1.0000\n",
            "Epoch 180/250\n",
            "1/1 - 0s - loss: 0.0190 - accuracy: 0.9956 - val_loss: 0.0033 - val_accuracy: 1.0000\n",
            "Epoch 181/250\n",
            "1/1 - 0s - loss: 0.0242 - accuracy: 0.9956 - val_loss: 0.0032 - val_accuracy: 1.0000\n",
            "Epoch 182/250\n",
            "1/1 - 0s - loss: 0.0268 - accuracy: 0.9912 - val_loss: 0.0037 - val_accuracy: 1.0000\n",
            "Epoch 183/250\n",
            "1/1 - 0s - loss: 0.0142 - accuracy: 1.0000 - val_loss: 0.0038 - val_accuracy: 1.0000\n",
            "Epoch 184/250\n",
            "1/1 - 0s - loss: 0.0151 - accuracy: 1.0000 - val_loss: 0.0034 - val_accuracy: 1.0000\n",
            "Epoch 185/250\n",
            "1/1 - 0s - loss: 0.0339 - accuracy: 0.9956 - val_loss: 0.0029 - val_accuracy: 1.0000\n",
            "Epoch 186/250\n",
            "1/1 - 0s - loss: 0.0519 - accuracy: 0.9825 - val_loss: 0.0017 - val_accuracy: 1.0000\n",
            "Epoch 187/250\n",
            "1/1 - 0s - loss: 0.0316 - accuracy: 0.9912 - val_loss: 0.0012 - val_accuracy: 1.0000\n",
            "Epoch 188/250\n",
            "1/1 - 0s - loss: 0.0199 - accuracy: 1.0000 - val_loss: 9.6654e-04 - val_accuracy: 1.0000\n",
            "Epoch 189/250\n",
            "1/1 - 0s - loss: 0.0174 - accuracy: 0.9956 - val_loss: 8.8496e-04 - val_accuracy: 1.0000\n",
            "Epoch 190/250\n",
            "1/1 - 0s - loss: 0.0214 - accuracy: 1.0000 - val_loss: 9.0931e-04 - val_accuracy: 1.0000\n",
            "Epoch 191/250\n",
            "1/1 - 0s - loss: 0.0104 - accuracy: 1.0000 - val_loss: 0.0010 - val_accuracy: 1.0000\n",
            "Epoch 192/250\n",
            "1/1 - 0s - loss: 0.0263 - accuracy: 0.9956 - val_loss: 0.0011 - val_accuracy: 1.0000\n",
            "Epoch 193/250\n",
            "1/1 - 0s - loss: 0.0206 - accuracy: 0.9956 - val_loss: 0.0012 - val_accuracy: 1.0000\n",
            "Epoch 194/250\n",
            "1/1 - 0s - loss: 0.0293 - accuracy: 0.9912 - val_loss: 0.0015 - val_accuracy: 1.0000\n",
            "Epoch 195/250\n",
            "1/1 - 0s - loss: 0.0131 - accuracy: 1.0000 - val_loss: 0.0018 - val_accuracy: 1.0000\n",
            "Epoch 196/250\n",
            "1/1 - 0s - loss: 0.0243 - accuracy: 0.9956 - val_loss: 0.0019 - val_accuracy: 1.0000\n",
            "Epoch 197/250\n",
            "1/1 - 0s - loss: 0.0182 - accuracy: 1.0000 - val_loss: 0.0017 - val_accuracy: 1.0000\n",
            "Epoch 198/250\n",
            "1/1 - 0s - loss: 0.0215 - accuracy: 0.9956 - val_loss: 0.0012 - val_accuracy: 1.0000\n",
            "Epoch 199/250\n",
            "1/1 - 0s - loss: 0.0205 - accuracy: 0.9956 - val_loss: 8.8711e-04 - val_accuracy: 1.0000\n",
            "Epoch 200/250\n",
            "1/1 - 0s - loss: 0.0183 - accuracy: 0.9956 - val_loss: 6.6557e-04 - val_accuracy: 1.0000\n",
            "Epoch 201/250\n",
            "1/1 - 0s - loss: 0.0191 - accuracy: 1.0000 - val_loss: 5.5246e-04 - val_accuracy: 1.0000\n",
            "Epoch 202/250\n",
            "1/1 - 0s - loss: 0.0152 - accuracy: 0.9956 - val_loss: 5.2452e-04 - val_accuracy: 1.0000\n",
            "Epoch 203/250\n",
            "1/1 - 0s - loss: 0.0153 - accuracy: 1.0000 - val_loss: 5.5253e-04 - val_accuracy: 1.0000\n",
            "Epoch 204/250\n",
            "1/1 - 0s - loss: 0.0232 - accuracy: 0.9912 - val_loss: 6.2082e-04 - val_accuracy: 1.0000\n",
            "Epoch 205/250\n",
            "1/1 - 0s - loss: 0.0188 - accuracy: 0.9956 - val_loss: 7.6268e-04 - val_accuracy: 1.0000\n",
            "Epoch 206/250\n",
            "1/1 - 0s - loss: 0.0148 - accuracy: 1.0000 - val_loss: 9.2934e-04 - val_accuracy: 1.0000\n",
            "Epoch 207/250\n",
            "1/1 - 0s - loss: 0.0154 - accuracy: 1.0000 - val_loss: 0.0010 - val_accuracy: 1.0000\n",
            "Epoch 208/250\n",
            "1/1 - 0s - loss: 0.0076 - accuracy: 1.0000 - val_loss: 0.0012 - val_accuracy: 1.0000\n",
            "Epoch 209/250\n",
            "1/1 - 0s - loss: 0.0171 - accuracy: 0.9956 - val_loss: 0.0014 - val_accuracy: 1.0000\n",
            "Epoch 210/250\n",
            "1/1 - 0s - loss: 0.0194 - accuracy: 0.9956 - val_loss: 0.0012 - val_accuracy: 1.0000\n",
            "Epoch 211/250\n",
            "1/1 - 0s - loss: 0.0135 - accuracy: 1.0000 - val_loss: 0.0010 - val_accuracy: 1.0000\n",
            "Epoch 212/250\n",
            "1/1 - 0s - loss: 0.0200 - accuracy: 0.9956 - val_loss: 7.5095e-04 - val_accuracy: 1.0000\n",
            "Epoch 213/250\n",
            "1/1 - 0s - loss: 0.0139 - accuracy: 0.9956 - val_loss: 5.2468e-04 - val_accuracy: 1.0000\n",
            "Epoch 214/250\n",
            "1/1 - 0s - loss: 0.0141 - accuracy: 1.0000 - val_loss: 4.2597e-04 - val_accuracy: 1.0000\n",
            "Epoch 215/250\n",
            "1/1 - 0s - loss: 0.0158 - accuracy: 0.9956 - val_loss: 4.1726e-04 - val_accuracy: 1.0000\n",
            "Epoch 216/250\n",
            "1/1 - 0s - loss: 0.0099 - accuracy: 1.0000 - val_loss: 4.3063e-04 - val_accuracy: 1.0000\n",
            "Epoch 217/250\n",
            "1/1 - 0s - loss: 0.0129 - accuracy: 1.0000 - val_loss: 4.7059e-04 - val_accuracy: 1.0000\n",
            "Epoch 218/250\n",
            "1/1 - 0s - loss: 0.0206 - accuracy: 0.9956 - val_loss: 5.3782e-04 - val_accuracy: 1.0000\n",
            "Epoch 219/250\n",
            "1/1 - 0s - loss: 0.0129 - accuracy: 1.0000 - val_loss: 7.0844e-04 - val_accuracy: 1.0000\n",
            "Epoch 220/250\n",
            "1/1 - 0s - loss: 0.0112 - accuracy: 1.0000 - val_loss: 8.9014e-04 - val_accuracy: 1.0000\n",
            "Epoch 221/250\n",
            "1/1 - 0s - loss: 0.0115 - accuracy: 1.0000 - val_loss: 0.0010 - val_accuracy: 1.0000\n",
            "Epoch 222/250\n",
            "1/1 - 0s - loss: 0.0140 - accuracy: 1.0000 - val_loss: 8.4980e-04 - val_accuracy: 1.0000\n",
            "Epoch 223/250\n",
            "1/1 - 0s - loss: 0.0181 - accuracy: 0.9912 - val_loss: 6.7543e-04 - val_accuracy: 1.0000\n",
            "Epoch 224/250\n",
            "1/1 - 0s - loss: 0.0187 - accuracy: 0.9912 - val_loss: 4.2548e-04 - val_accuracy: 1.0000\n",
            "Epoch 225/250\n",
            "1/1 - 0s - loss: 0.0163 - accuracy: 1.0000 - val_loss: 2.8567e-04 - val_accuracy: 1.0000\n",
            "Epoch 226/250\n",
            "1/1 - 0s - loss: 0.0106 - accuracy: 0.9956 - val_loss: 2.4095e-04 - val_accuracy: 1.0000\n",
            "Epoch 227/250\n",
            "1/1 - 0s - loss: 0.0073 - accuracy: 1.0000 - val_loss: 2.2274e-04 - val_accuracy: 1.0000\n",
            "Epoch 228/250\n",
            "1/1 - 0s - loss: 0.0109 - accuracy: 1.0000 - val_loss: 2.1195e-04 - val_accuracy: 1.0000\n",
            "Epoch 229/250\n",
            "1/1 - 0s - loss: 0.0143 - accuracy: 1.0000 - val_loss: 2.1473e-04 - val_accuracy: 1.0000\n",
            "Epoch 230/250\n",
            "1/1 - 0s - loss: 0.0084 - accuracy: 1.0000 - val_loss: 2.3785e-04 - val_accuracy: 1.0000\n",
            "Epoch 231/250\n",
            "1/1 - 0s - loss: 0.0111 - accuracy: 1.0000 - val_loss: 3.3080e-04 - val_accuracy: 1.0000\n",
            "Epoch 232/250\n",
            "1/1 - 0s - loss: 0.0071 - accuracy: 1.0000 - val_loss: 4.5999e-04 - val_accuracy: 1.0000\n",
            "Epoch 233/250\n",
            "1/1 - 0s - loss: 0.0139 - accuracy: 0.9956 - val_loss: 6.9841e-04 - val_accuracy: 1.0000\n",
            "Epoch 234/250\n",
            "1/1 - 0s - loss: 0.0201 - accuracy: 0.9912 - val_loss: 8.6966e-04 - val_accuracy: 1.0000\n",
            "Epoch 235/250\n",
            "1/1 - 0s - loss: 0.0110 - accuracy: 1.0000 - val_loss: 7.6088e-04 - val_accuracy: 1.0000\n",
            "Epoch 236/250\n",
            "1/1 - 0s - loss: 0.0103 - accuracy: 1.0000 - val_loss: 5.7308e-04 - val_accuracy: 1.0000\n",
            "Epoch 237/250\n",
            "1/1 - 0s - loss: 0.0121 - accuracy: 0.9956 - val_loss: 3.7155e-04 - val_accuracy: 1.0000\n",
            "Epoch 238/250\n",
            "1/1 - 0s - loss: 0.0054 - accuracy: 1.0000 - val_loss: 2.8326e-04 - val_accuracy: 1.0000\n",
            "Epoch 239/250\n",
            "1/1 - 0s - loss: 0.0082 - accuracy: 1.0000 - val_loss: 2.2097e-04 - val_accuracy: 1.0000\n",
            "Epoch 240/250\n",
            "1/1 - 0s - loss: 0.0176 - accuracy: 0.9956 - val_loss: 1.9742e-04 - val_accuracy: 1.0000\n",
            "Epoch 241/250\n",
            "1/1 - 0s - loss: 0.0053 - accuracy: 1.0000 - val_loss: 1.9720e-04 - val_accuracy: 1.0000\n",
            "Epoch 242/250\n",
            "1/1 - 0s - loss: 0.0147 - accuracy: 0.9956 - val_loss: 2.3147e-04 - val_accuracy: 1.0000\n",
            "Epoch 243/250\n",
            "1/1 - 0s - loss: 0.0155 - accuracy: 0.9956 - val_loss: 2.8348e-04 - val_accuracy: 1.0000\n",
            "Epoch 244/250\n",
            "1/1 - 0s - loss: 0.0083 - accuracy: 1.0000 - val_loss: 3.5349e-04 - val_accuracy: 1.0000\n",
            "Epoch 245/250\n",
            "1/1 - 0s - loss: 0.0050 - accuracy: 1.0000 - val_loss: 4.6794e-04 - val_accuracy: 1.0000\n",
            "Epoch 246/250\n",
            "1/1 - 0s - loss: 0.0096 - accuracy: 1.0000 - val_loss: 5.9423e-04 - val_accuracy: 1.0000\n",
            "Epoch 247/250\n",
            "1/1 - 0s - loss: 0.0064 - accuracy: 1.0000 - val_loss: 7.0672e-04 - val_accuracy: 1.0000\n",
            "Epoch 248/250\n",
            "1/1 - 0s - loss: 0.0052 - accuracy: 1.0000 - val_loss: 7.6896e-04 - val_accuracy: 1.0000\n",
            "Epoch 249/250\n",
            "1/1 - 0s - loss: 0.0090 - accuracy: 1.0000 - val_loss: 7.8693e-04 - val_accuracy: 1.0000\n",
            "Epoch 250/250\n",
            "1/1 - 0s - loss: 0.0092 - accuracy: 1.0000 - val_loss: 6.7771e-04 - val_accuracy: 1.0000\n"
          ]
        }
      ]
    },
    {
      "cell_type": "markdown",
      "metadata": {
        "id": "1KE5d1_LopS3"
      },
      "source": [
        "##Evaluate the test data"
      ]
    },
    {
      "cell_type": "code",
      "metadata": {
        "colab": {
          "base_uri": "https://localhost:8080/"
        },
        "id": "hiY9Ezm0Wm-p",
        "outputId": "23b06bf3-6175-4091-c77d-3c6392078706"
      },
      "source": [
        "scor = cnn_model.evaluate( np.array(x_test),  np.array(y_test), verbose=0)\n",
        "\n",
        "print('test los {:.4f}'.format(scor[0]))\n",
        "print('test acc {:.4f}'.format(scor[1]))"
      ],
      "execution_count": null,
      "outputs": [
        {
          "output_type": "stream",
          "name": "stdout",
          "text": [
            "test los 0.3590\n",
            "test acc 0.9375\n"
          ]
        }
      ]
    },
    {
      "cell_type": "markdown",
      "metadata": {
        "id": "q31BdYA-oyJg"
      },
      "source": [
        "**Step 7**\n",
        "\n",
        "\n",
        "plot the result"
      ]
    },
    {
      "cell_type": "code",
      "metadata": {
        "colab": {
          "base_uri": "https://localhost:8080/",
          "height": 590
        },
        "id": "nVn_-d2WXn--",
        "outputId": "82b0924f-ab52-48d7-8731-38f1cd554290"
      },
      "source": [
        "# list all data in history\n",
        "print(history.history.keys())\n",
        "# summarize history for accuracy\n",
        "plt.plot(history.history['accuracy'])\n",
        "plt.plot(history.history['val_accuracy'])\n",
        "plt.title('model accuracy')\n",
        "plt.ylabel('accuracy')\n",
        "plt.xlabel('epoch')\n",
        "plt.legend(['train', 'test'], loc='upper left')\n",
        "plt.show()\n",
        "# summarize history for loss\n",
        "plt.plot(history.history['loss'])\n",
        "plt.plot(history.history['val_loss'])\n",
        "plt.title('model loss')\n",
        "plt.ylabel('loss')\n",
        "plt.xlabel('epoch')\n",
        "plt.legend(['train', 'test'], loc='upper left')\n",
        "plt.show()\n"
      ],
      "execution_count": null,
      "outputs": [
        {
          "output_type": "stream",
          "name": "stdout",
          "text": [
            "dict_keys(['loss', 'accuracy', 'val_loss', 'val_accuracy'])\n"
          ]
        },
        {
          "output_type": "display_data",
          "data": {
            "image/png": "[encoded data removed]",
            "text/plain": [
              "<Figure size 432x288 with 1 Axes>"
            ]
          },
          "metadata": {
            "needs_background": "light"
          }
        },
        {
          "output_type": "display_data",
          "data": {
            "image/png": "[encoded data removed]",
            "text/plain": [
              "<Figure size 432x288 with 1 Axes>"
            ]
          },
          "metadata": {
            "needs_background": "light"
          }
        }
      ]
    },
    {
      "cell_type": "markdown",
      "metadata": {
        "id": "7i_-Tzo7o_i6"
      },
      "source": [
        "**Step 8**\n",
        "\n",
        "\n",
        "Plot Confusion Matrix"
      ]
    },
    {
      "cell_type": "code",
      "metadata": {
        "colab": {
          "base_uri": "https://localhost:8080/",
          "height": 1000
        },
        "id": "SlLLf94kX4Gz",
        "outputId": "f5e511b2-02fa-4202-f9d0-a77271227f1d"
      },
      "source": [
        "predicted =np.array( cnn_model.predict(x_test))\n",
        "#print(predicted)\n",
        "#print(y_test)\n",
        "ynew = cnn_model.predict(x_test)\n",
        "\n",
        "\n",
        "Acc=accuracy_score(y_test, ynew.argmax(axis=1) )\n",
        "print(\"accuracy : \")\n",
        "print(Acc)\n",
        "#/tn, fp, fn, tp = confusion_matrix(np.array(y_test), ynew).ravel()\n",
        "cnf_matrix=confusion_matrix(np.array(y_test), ynew.argmax(axis=1))\n",
        "\n",
        "y_test1 = np_utils.to_categorical(y_test, 20)\n",
        "\n",
        "\n",
        "\n",
        "def plot_confusion_matrix(cm, classes,\n",
        "                          normalize=False,\n",
        "                          title='Confusion matrix',\n",
        "                          cmap=plt.cm.Blues):\n",
        "    \"\"\"\n",
        "    This function prints and plots the confusion matrix.\n",
        "    Normalization can be applied by setting `normalize=True`.\n",
        "    \"\"\"\n",
        "    if normalize:\n",
        "        cm = cm.astype('float') / cm.sum(axis=1)[:, np.newaxis]\n",
        "        #print(\"Normalized confusion matrix\")\n",
        "    else:\n",
        "        print('Confusion matrix, without normalization')\n",
        "\n",
        "    #print(cm)\n",
        "    plt.imshow(cm, interpolation='nearest', cmap=cmap)\n",
        "    plt.title(title)\n",
        "    plt.colorbar()\n",
        "    tick_marks = np.arange(len(classes))\n",
        "    plt.xticks(tick_marks, classes, rotation=45)\n",
        "    plt.yticks(tick_marks, classes)\n",
        "\n",
        "    fmt = '.2f' if normalize else 'd'\n",
        "    thresh = cm.max() / 2.\n",
        "    for i, j in itertools.product(range(cm.shape[0]), range(cm.shape[1])):\n",
        "        plt.text(j, i, format(cm[i, j], fmt),\n",
        "                 horizontalalignment=\"center\",\n",
        "                 color=\"white\" if cm[i, j] > thresh else \"black\")\n",
        "\n",
        "    plt.tight_layout()\n",
        "    plt.ylabel('True label')\n",
        "    plt.xlabel('Predicted label')\n",
        "    plt.show()\n",
        "\n",
        "\n",
        "print('Confusion matrix, without normalization')\n",
        "print(cnf_matrix)\n",
        "\n",
        "plt.figure()\n",
        "plot_confusion_matrix(cnf_matrix[1:10,1:10], classes=[0,1,2,3,4,5,6,7,8,9],\n",
        "                      title='Confusion matrix, without normalization')\n",
        "\n",
        "plt.figure()\n",
        "plot_confusion_matrix(cnf_matrix[11:20,11:20], classes=[10,11,12,13,14,15,16,17,18,19],\n",
        "                      title='Confusion matrix, without normalization')\n",
        "\n",
        "print(\"Confusion matrix:\\n%s\" % confusion_matrix(np.array(y_test), ynew.argmax(axis=1)))\n",
        "print(classification_report(np.array(y_test), ynew.argmax(axis=1)))"
      ],
      "execution_count": null,
      "outputs": [
        {
          "output_type": "stream",
          "name": "stdout",
          "text": [
            "accuracy : \n",
            "0.9375\n",
            "Confusion matrix, without normalization\n",
            "[[8 0 0 0 0 0 0 0 0 0 0 0 0 0 0 0 0 0 0 0]\n",
            " [0 8 0 0 0 0 0 0 0 0 0 0 0 0 0 0 0 0 0 0]\n",
            " [0 0 8 0 0 0 0 0 0 0 0 0 0 0 0 0 0 0 0 0]\n",
            " [0 0 0 8 0 0 0 0 0 0 0 0 0 0 0 0 0 0 0 0]\n",
            " [0 0 0 0 6 0 0 0 0 0 0 0 0 0 0 0 0 2 0 0]\n",
            " [0 0 0 0 0 8 0 0 0 0 0 0 0 0 0 0 0 0 0 0]\n",
            " [0 0 0 0 0 0 8 0 0 0 0 0 0 0 0 0 0 0 0 0]\n",
            " [0 0 0 0 0 0 0 8 0 0 0 0 0 0 0 0 0 0 0 0]\n",
            " [0 0 0 0 0 0 0 0 8 0 0 0 0 0 0 0 0 0 0 0]\n",
            " [0 0 0 0 0 0 0 2 0 6 0 0 0 0 0 0 0 0 0 0]\n",
            " [0 0 0 0 0 0 0 0 0 0 8 0 0 0 0 0 0 0 0 0]\n",
            " [0 0 0 0 0 0 0 0 0 0 0 8 0 0 0 0 0 0 0 0]\n",
            " [0 0 0 0 0 0 0 0 0 0 0 0 8 0 0 0 0 0 0 0]\n",
            " [0 0 0 0 0 0 0 0 0 0 0 0 0 8 0 0 0 0 0 0]\n",
            " [0 0 0 0 0 0 0 0 0 0 0 0 0 0 8 0 0 0 0 0]\n",
            " [2 0 0 0 0 0 0 0 0 0 0 0 2 0 0 4 0 0 0 0]\n",
            " [0 0 0 0 0 0 0 0 0 0 0 0 0 0 0 0 8 0 0 0]\n",
            " [0 0 0 0 0 0 0 0 0 0 0 0 0 0 0 0 0 8 0 0]\n",
            " [0 0 0 0 0 0 0 2 0 0 0 0 0 0 0 0 0 0 6 0]\n",
            " [0 0 0 0 0 0 0 0 0 0 0 0 0 0 0 0 0 0 0 8]]\n",
            "Confusion matrix, without normalization\n"
          ]
        },
        {
          "output_type": "display_data",
          "data": {
            "image/png": "[encoded data removed]",
            "text/plain": [
              "<Figure size 432x288 with 2 Axes>"
            ]
          },
          "metadata": {
            "needs_background": "light"
          }
        },
        {
          "output_type": "stream",
          "name": "stdout",
          "text": [
            "Confusion matrix, without normalization\n"
          ]
        },
        {
          "output_type": "display_data",
          "data": {
            "image/png": "[encoded data removed]",
            "text/plain": [
              "<Figure size 432x288 with 2 Axes>"
            ]
          },
          "metadata": {
            "needs_background": "light"
          }
        },
        {
          "output_type": "stream",
          "name": "stdout",
          "text": [
            "Confusion matrix:\n",
            "[[8 0 0 0 0 0 0 0 0 0 0 0 0 0 0 0 0 0 0 0]\n",
            " [0 8 0 0 0 0 0 0 0 0 0 0 0 0 0 0 0 0 0 0]\n",
            " [0 0 8 0 0 0 0 0 0 0 0 0 0 0 0 0 0 0 0 0]\n",
            " [0 0 0 8 0 0 0 0 0 0 0 0 0 0 0 0 0 0 0 0]\n",
            " [0 0 0 0 6 0 0 0 0 0 0 0 0 0 0 0 0 2 0 0]\n",
            " [0 0 0 0 0 8 0 0 0 0 0 0 0 0 0 0 0 0 0 0]\n",
            " [0 0 0 0 0 0 8 0 0 0 0 0 0 0 0 0 0 0 0 0]\n",
            " [0 0 0 0 0 0 0 8 0 0 0 0 0 0 0 0 0 0 0 0]\n",
            " [0 0 0 0 0 0 0 0 8 0 0 0 0 0 0 0 0 0 0 0]\n",
            " [0 0 0 0 0 0 0 2 0 6 0 0 0 0 0 0 0 0 0 0]\n",
            " [0 0 0 0 0 0 0 0 0 0 8 0 0 0 0 0 0 0 0 0]\n",
            " [0 0 0 0 0 0 0 0 0 0 0 8 0 0 0 0 0 0 0 0]\n",
            " [0 0 0 0 0 0 0 0 0 0 0 0 8 0 0 0 0 0 0 0]\n",
            " [0 0 0 0 0 0 0 0 0 0 0 0 0 8 0 0 0 0 0 0]\n",
            " [0 0 0 0 0 0 0 0 0 0 0 0 0 0 8 0 0 0 0 0]\n",
            " [2 0 0 0 0 0 0 0 0 0 0 0 2 0 0 4 0 0 0 0]\n",
            " [0 0 0 0 0 0 0 0 0 0 0 0 0 0 0 0 8 0 0 0]\n",
            " [0 0 0 0 0 0 0 0 0 0 0 0 0 0 0 0 0 8 0 0]\n",
            " [0 0 0 0 0 0 0 2 0 0 0 0 0 0 0 0 0 0 6 0]\n",
            " [0 0 0 0 0 0 0 0 0 0 0 0 0 0 0 0 0 0 0 8]]\n",
            "              precision    recall  f1-score   support\n",
            "\n",
            "           0       0.80      1.00      0.89         8\n",
            "           1       1.00      1.00      1.00         8\n",
            "           2       1.00      1.00      1.00         8\n",
            "           3       1.00      1.00      1.00         8\n",
            "           4       1.00      0.75      0.86         8\n",
            "           5       1.00      1.00      1.00         8\n",
            "           6       1.00      1.00      1.00         8\n",
            "           7       0.67      1.00      0.80         8\n",
            "           8       1.00      1.00      1.00         8\n",
            "           9       1.00      0.75      0.86         8\n",
            "          10       1.00      1.00      1.00         8\n",
            "          11       1.00      1.00      1.00         8\n",
            "          12       0.80      1.00      0.89         8\n",
            "          13       1.00      1.00      1.00         8\n",
            "          14       1.00      1.00      1.00         8\n",
            "          15       1.00      0.50      0.67         8\n",
            "          16       1.00      1.00      1.00         8\n",
            "          17       0.80      1.00      0.89         8\n",
            "          18       1.00      0.75      0.86         8\n",
            "          19       1.00      1.00      1.00         8\n",
            "\n",
            "    accuracy                           0.94       160\n",
            "   macro avg       0.95      0.94      0.94       160\n",
            "weighted avg       0.95      0.94      0.94       160\n",
            "\n"
          ]
        }
      ]
    },
    {
      "cell_type": "code",
      "metadata": {
        "id": "io1eAT8_khln"
      },
      "source": [
        ""
      ],
      "execution_count": null,
      "outputs": []
    },
    {
      "cell_type": "code",
      "metadata": {
        "id": "f8AMWMX6jax2"
      },
      "source": [
        ""
      ],
      "execution_count": null,
      "outputs": []
    }
  ]
}